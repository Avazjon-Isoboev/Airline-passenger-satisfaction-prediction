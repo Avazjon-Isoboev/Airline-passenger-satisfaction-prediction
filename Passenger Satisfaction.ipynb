{
  "cells": [
    {
      "cell_type": "markdown",
      "metadata": {
        "id": "view-in-github",
        "colab_type": "text"
      },
      "source": [
        "<a href=\"https://colab.research.google.com/github/Avazjon-Isoboev/Airline-passenger-satisfaction-prediction/blob/main/Passenger%20Satisfaction.ipynb\" target=\"_parent\"><img src=\"https://colab.research.google.com/assets/colab-badge.svg\" alt=\"Open In Colab\"/></a>"
      ]
    },
    {
      "cell_type": "markdown",
      "source": [
        "Bizda aviakompaniya yo'lovchilari haqida quyidagi ma'lumotlar mavjud:\n",
        "\n",
        "1# Jins: erkak yoki ayol\n",
        "\n",
        "2# Mijoz turi: doimiy yoki doimiy bo'lmagan aviakompaniya mijozi\n",
        "\n",
        "3# Yosh: yo'lovchining haqiqiy yoshi\n",
        "\n",
        "4# Sayohat turi: yo'lovchining parvoz maqsadi (shaxsiy yoki xizmat safari)\n",
        "\n",
        "5# Sinf: biznes, iqtisod, iqtisod plus\n",
        "\n",
        "6# Parvoz masofasi\n",
        "\n",
        "7# Parvoz ichidagi Wi-Fi xizmati: bortdagi Wi-Fi xizmatidan qoniqish darajasi (0: baholanmagan; 1-5)\n",
        "\n",
        "8# Jo‘nash/kelish vaqti qulay: jo‘nab ketish/kelish vaqtidan qoniqish darajasi (0: baholanmagan; 1-5)\n",
        "\n",
        "9# Onlayn bron qilish qulayligi: onlayn bron qilishdan qoniqish darajasi (0: baholanmagan; 1-5)\n",
        "\n",
        "10# Darvoza(Gate) joylashuvi: darvoza joylashuvidan qoniqish darajasi (0: baholanmagan; 1-5)\n",
        "\n",
        "11# Oziq-ovqat va ichimliklar: oziq-ovqat va ichimliklardan qoniqish darajasi (0: baholanmagan; 1-5)\n",
        "\n",
        "12# Onlayn bortga chiqish: onlayn bortdan qoniqish darajasi (0: baholanmagan; 1-5)\n",
        "\n",
        "13# O'rindiqning qulayligi: o'rindiqdan qoniqish darajasi (0: baholanmagan; 1-5)\n",
        "\n",
        "14# Samolyot ichidagi o'yin-kulgi: samolyot ichidagi o'yin-kulgidan qoniqish (0: baholanmagan; 1-5)\n",
        "\n",
        "15#Bortda xizmat ko'rsatish: bort xizmatidan qoniqish darajasi (0: baholanmagan; 1-5)\n",
        "\n",
        "16#Oyoq xonasi xizmati: oyoq xonasi xizmatidan qoniqish darajasi (0: baholanmagan; 1-5)\n",
        "\n",
        "17# Bagajga ishlov berish: bagajni tashishdan qoniqish darajasi (0: baholanmagan; 1-5)\n",
        "\n",
        "18# Ro'yxatdan o'tish xizmati: ro'yxatdan o'tish xizmatidan qoniqish darajasi (0: baholanmagan; 1-5)\n",
        "\n",
        "19# Parvoz ichidagi xizmat: parvoz xizmatidan qoniqish darajasi (0: baholanmagan; 1-5)\n",
        "20# Tozalik: tozalikdan qoniqish darajasi (0: baholanmagan; 1-5)\n",
        "Kechikish daqiqalarda\n",
        "Kechikish daqiqalarda\n",
        "Ushbu ma'lumotlar to'plami havo yo'lovchilarining qoniqishi bo'yicha so'rovni o'z ichiga oladi. Quyidagi tasniflash muammosi o'rnatiladi:\n",
        "\n",
        "Yo'lovchining aviakompaniyadan qoniqish darajasining qaysi biri tegishli ekanligini taxmin qilish kerak:\n",
        "\n",
        "Qoniqish\n",
        "Neytral yoki norozi"
      ],
      "metadata": {
        "id": "KevPgMocB5L7"
      },
      "id": "KevPgMocB5L7"
    },
    {
      "cell_type": "code",
      "execution_count": 3,
      "id": "09192a4a",
      "metadata": {
        "execution": {
          "iopub.execute_input": "2022-05-28T07:30:08.821114Z",
          "iopub.status.busy": "2022-05-28T07:30:08.820104Z",
          "iopub.status.idle": "2022-05-28T07:30:10.287968Z",
          "shell.execute_reply": "2022-05-28T07:30:10.287127Z"
        },
        "papermill": {
          "duration": 1.479383,
          "end_time": "2022-05-28T07:30:10.290142",
          "exception": false,
          "start_time": "2022-05-28T07:30:08.810759",
          "status": "completed"
        },
        "tags": [],
        "id": "09192a4a"
      },
      "outputs": [],
      "source": [
        "# standard \n",
        "import pandas as pd\n",
        "import numpy as np\n",
        "\n",
        "# visualization\n",
        "import seaborn as sns\n",
        "import matplotlib.pyplot as plt\n",
        "%matplotlib inline\n",
        "sns.set_theme(style='darkgrid')\n",
        "\n",
        "#scikit-learn | ML \n",
        "from sklearn.preprocessing import OrdinalEncoder,StandardScaler,OneHotEncoder\n",
        "from sklearn.impute import SimpleImputer\n",
        "from sklearn.model_selection import StratifiedShuffleSplit\n",
        "from sklearn.pipeline import Pipeline\n",
        "from sklearn.compose import ColumnTransformer\n",
        "\n",
        " ## models\n",
        "from sklearn.neighbors import KNeighborsClassifier\n",
        "from sklearn.linear_model import LogisticRegression\n",
        "from sklearn.tree import DecisionTreeClassifier, plot_tree\n",
        "from sklearn.ensemble import RandomForestClassifier\n",
        "from sklearn.svm import SVC\n",
        "from xgboost import XGBClassifier\n",
        "\n",
        "  ## metrics\n",
        "from sklearn.metrics import (classification_report, accuracy_score, f1_score, \n",
        "                             confusion_matrix, roc_curve, auc, RocCurveDisplay)"
      ]
    },
    {
      "cell_type": "code",
      "execution_count": 4,
      "id": "e4e96633",
      "metadata": {
        "execution": {
          "iopub.execute_input": "2022-05-28T07:30:10.305618Z",
          "iopub.status.busy": "2022-05-28T07:30:10.304944Z",
          "iopub.status.idle": "2022-05-28T07:30:10.576844Z",
          "shell.execute_reply": "2022-05-28T07:30:10.576245Z"
        },
        "papermill": {
          "duration": 0.282352,
          "end_time": "2022-05-28T07:30:10.579522",
          "exception": false,
          "start_time": "2022-05-28T07:30:10.297170",
          "status": "completed"
        },
        "tags": [],
        "colab": {
          "base_uri": "https://localhost:8080/",
          "height": 968
        },
        "id": "e4e96633",
        "outputId": "68423252-7f05-435f-b8cb-29f9a4b6a70b"
      },
      "outputs": [
        {
          "output_type": "execute_result",
          "data": {
            "text/plain": [
              "                                                   0                1  \\\n",
              "id                                                 1                2   \n",
              "Gender                                          Male           Female   \n",
              "Customer Type                      disloyal Customer   Loyal Customer   \n",
              "Age                                               33               49   \n",
              "Type of Travel                       Business travel  Business travel   \n",
              "Class                                            Eco         Business   \n",
              "Flight Distance                                  571             1431   \n",
              "Inflight wifi service                              2                4   \n",
              "Departure/Arrival time convenient                  3                1   \n",
              "Ease of Online booking                             2                4   \n",
              "Gate location                                      4                4   \n",
              "Food and drink                                     4                3   \n",
              "Online boarding                                    2                5   \n",
              "Seat comfort                                       4                4   \n",
              "Inflight entertainment                             4                5   \n",
              "On-board service                                   3                5   \n",
              "Leg room service                                   1                5   \n",
              "Baggage handling                                   3                5   \n",
              "Checkin service                                    4                3   \n",
              "Inflight service                                   3                5   \n",
              "Cleanliness                                        4                3   \n",
              "Departure Delay in Minutes                        10                0   \n",
              "Arrival Delay in Minutes                         3.0              0.0   \n",
              "satisfaction                                       0                1   \n",
              "\n",
              "                                                 2                3  \\\n",
              "id                                               3                4   \n",
              "Gender                                      Female           Female   \n",
              "Customer Type                       Loyal Customer   Loyal Customer   \n",
              "Age                                             43               27   \n",
              "Type of Travel                     Business travel  Business travel   \n",
              "Class                                          Eco         Business   \n",
              "Flight Distance                                867             1550   \n",
              "Inflight wifi service                            1                3   \n",
              "Departure/Arrival time convenient                4                3   \n",
              "Ease of Online booking                           4                3   \n",
              "Gate location                                    4                3   \n",
              "Food and drink                                   4                2   \n",
              "Online boarding                                  4                2   \n",
              "Seat comfort                                     3                2   \n",
              "Inflight entertainment                           1                2   \n",
              "On-board service                                 1                4   \n",
              "Leg room service                                 1                4   \n",
              "Baggage handling                                 1                5   \n",
              "Checkin service                                  1                5   \n",
              "Inflight service                                 1                4   \n",
              "Cleanliness                                      2                2   \n",
              "Departure Delay in Minutes                       0                0   \n",
              "Arrival Delay in Minutes                      18.0              0.0   \n",
              "satisfaction                                     0                1   \n",
              "\n",
              "                                                 4                5  \\\n",
              "id                                               5                6   \n",
              "Gender                                        Male             Male   \n",
              "Customer Type                       Loyal Customer   Loyal Customer   \n",
              "Age                                             11               30   \n",
              "Type of Travel                     Personal Travel  Personal Travel   \n",
              "Class                                          Eco         Eco Plus   \n",
              "Flight Distance                                526             1034   \n",
              "Inflight wifi service                            3                2   \n",
              "Departure/Arrival time convenient                4                4   \n",
              "Ease of Online booking                           3                2   \n",
              "Gate location                                    2                2   \n",
              "Food and drink                                   4                5   \n",
              "Online boarding                                  3                2   \n",
              "Seat comfort                                     4                5   \n",
              "Inflight entertainment                           4                5   \n",
              "On-board service                                 5                4   \n",
              "Leg room service                                 2                5   \n",
              "Baggage handling                                 5                5   \n",
              "Checkin service                                  3                4   \n",
              "Inflight service                                 5                4   \n",
              "Cleanliness                                      4                5   \n",
              "Departure Delay in Minutes                       0                0   \n",
              "Arrival Delay in Minutes                      10.0              0.0   \n",
              "satisfaction                                     0                0   \n",
              "\n",
              "                                                 6                7  \\\n",
              "id                                               7                8   \n",
              "Gender                                        Male           Female   \n",
              "Customer Type                       Loyal Customer   Loyal Customer   \n",
              "Age                                             38               39   \n",
              "Type of Travel                     Business travel  Business travel   \n",
              "Class                                          Eco         Eco Plus   \n",
              "Flight Distance                                826              162   \n",
              "Inflight wifi service                            5                3   \n",
              "Departure/Arrival time convenient                1                4   \n",
              "Ease of Online booking                           1                4   \n",
              "Gate location                                    1                4   \n",
              "Food and drink                                   5                3   \n",
              "Online boarding                                  5                3   \n",
              "Seat comfort                                     5                3   \n",
              "Inflight entertainment                           5                3   \n",
              "On-board service                                 1                3   \n",
              "Leg room service                                 4                5   \n",
              "Baggage handling                                 4                5   \n",
              "Checkin service                                  5                1   \n",
              "Inflight service                                 4                3   \n",
              "Cleanliness                                      5                3   \n",
              "Departure Delay in Minutes                       2                0   \n",
              "Arrival Delay in Minutes                       5.0              0.0   \n",
              "satisfaction                                     1                1   \n",
              "\n",
              "                                                   8                  9  \n",
              "id                                                 9                 10  \n",
              "Gender                                          Male             Female  \n",
              "Customer Type                      disloyal Customer  disloyal Customer  \n",
              "Age                                               43                 24  \n",
              "Type of Travel                       Business travel    Business travel  \n",
              "Class                                       Business                Eco  \n",
              "Flight Distance                                  541               1065  \n",
              "Inflight wifi service                              2                  4  \n",
              "Departure/Arrival time convenient                  2                  4  \n",
              "Ease of Online booking                             2                  4  \n",
              "Gate location                                      5                  3  \n",
              "Food and drink                                     3                  2  \n",
              "Online boarding                                    2                  4  \n",
              "Seat comfort                                       3                  3  \n",
              "Inflight entertainment                             3                  2  \n",
              "On-board service                                   5                  4  \n",
              "Leg room service                                   2                  2  \n",
              "Baggage handling                                   5                  4  \n",
              "Checkin service                                    4                  2  \n",
              "Inflight service                                   4                  4  \n",
              "Cleanliness                                        3                  2  \n",
              "Departure Delay in Minutes                         0                 10  \n",
              "Arrival Delay in Minutes                         0.0               17.0  \n",
              "satisfaction                                       0                  0  "
            ],
            "text/html": [
              "\n",
              "  <div id=\"df-72d6dac4-5301-45f6-803a-5f3db6d460c8\">\n",
              "    <div class=\"colab-df-container\">\n",
              "      <div>\n",
              "<style scoped>\n",
              "    .dataframe tbody tr th:only-of-type {\n",
              "        vertical-align: middle;\n",
              "    }\n",
              "\n",
              "    .dataframe tbody tr th {\n",
              "        vertical-align: top;\n",
              "    }\n",
              "\n",
              "    .dataframe thead th {\n",
              "        text-align: right;\n",
              "    }\n",
              "</style>\n",
              "<table border=\"1\" class=\"dataframe\">\n",
              "  <thead>\n",
              "    <tr style=\"text-align: right;\">\n",
              "      <th></th>\n",
              "      <th>0</th>\n",
              "      <th>1</th>\n",
              "      <th>2</th>\n",
              "      <th>3</th>\n",
              "      <th>4</th>\n",
              "      <th>5</th>\n",
              "      <th>6</th>\n",
              "      <th>7</th>\n",
              "      <th>8</th>\n",
              "      <th>9</th>\n",
              "    </tr>\n",
              "  </thead>\n",
              "  <tbody>\n",
              "    <tr>\n",
              "      <th>id</th>\n",
              "      <td>1</td>\n",
              "      <td>2</td>\n",
              "      <td>3</td>\n",
              "      <td>4</td>\n",
              "      <td>5</td>\n",
              "      <td>6</td>\n",
              "      <td>7</td>\n",
              "      <td>8</td>\n",
              "      <td>9</td>\n",
              "      <td>10</td>\n",
              "    </tr>\n",
              "    <tr>\n",
              "      <th>Gender</th>\n",
              "      <td>Male</td>\n",
              "      <td>Female</td>\n",
              "      <td>Female</td>\n",
              "      <td>Female</td>\n",
              "      <td>Male</td>\n",
              "      <td>Male</td>\n",
              "      <td>Male</td>\n",
              "      <td>Female</td>\n",
              "      <td>Male</td>\n",
              "      <td>Female</td>\n",
              "    </tr>\n",
              "    <tr>\n",
              "      <th>Customer Type</th>\n",
              "      <td>disloyal Customer</td>\n",
              "      <td>Loyal Customer</td>\n",
              "      <td>Loyal Customer</td>\n",
              "      <td>Loyal Customer</td>\n",
              "      <td>Loyal Customer</td>\n",
              "      <td>Loyal Customer</td>\n",
              "      <td>Loyal Customer</td>\n",
              "      <td>Loyal Customer</td>\n",
              "      <td>disloyal Customer</td>\n",
              "      <td>disloyal Customer</td>\n",
              "    </tr>\n",
              "    <tr>\n",
              "      <th>Age</th>\n",
              "      <td>33</td>\n",
              "      <td>49</td>\n",
              "      <td>43</td>\n",
              "      <td>27</td>\n",
              "      <td>11</td>\n",
              "      <td>30</td>\n",
              "      <td>38</td>\n",
              "      <td>39</td>\n",
              "      <td>43</td>\n",
              "      <td>24</td>\n",
              "    </tr>\n",
              "    <tr>\n",
              "      <th>Type of Travel</th>\n",
              "      <td>Business travel</td>\n",
              "      <td>Business travel</td>\n",
              "      <td>Business travel</td>\n",
              "      <td>Business travel</td>\n",
              "      <td>Personal Travel</td>\n",
              "      <td>Personal Travel</td>\n",
              "      <td>Business travel</td>\n",
              "      <td>Business travel</td>\n",
              "      <td>Business travel</td>\n",
              "      <td>Business travel</td>\n",
              "    </tr>\n",
              "    <tr>\n",
              "      <th>Class</th>\n",
              "      <td>Eco</td>\n",
              "      <td>Business</td>\n",
              "      <td>Eco</td>\n",
              "      <td>Business</td>\n",
              "      <td>Eco</td>\n",
              "      <td>Eco Plus</td>\n",
              "      <td>Eco</td>\n",
              "      <td>Eco Plus</td>\n",
              "      <td>Business</td>\n",
              "      <td>Eco</td>\n",
              "    </tr>\n",
              "    <tr>\n",
              "      <th>Flight Distance</th>\n",
              "      <td>571</td>\n",
              "      <td>1431</td>\n",
              "      <td>867</td>\n",
              "      <td>1550</td>\n",
              "      <td>526</td>\n",
              "      <td>1034</td>\n",
              "      <td>826</td>\n",
              "      <td>162</td>\n",
              "      <td>541</td>\n",
              "      <td>1065</td>\n",
              "    </tr>\n",
              "    <tr>\n",
              "      <th>Inflight wifi service</th>\n",
              "      <td>2</td>\n",
              "      <td>4</td>\n",
              "      <td>1</td>\n",
              "      <td>3</td>\n",
              "      <td>3</td>\n",
              "      <td>2</td>\n",
              "      <td>5</td>\n",
              "      <td>3</td>\n",
              "      <td>2</td>\n",
              "      <td>4</td>\n",
              "    </tr>\n",
              "    <tr>\n",
              "      <th>Departure/Arrival time convenient</th>\n",
              "      <td>3</td>\n",
              "      <td>1</td>\n",
              "      <td>4</td>\n",
              "      <td>3</td>\n",
              "      <td>4</td>\n",
              "      <td>4</td>\n",
              "      <td>1</td>\n",
              "      <td>4</td>\n",
              "      <td>2</td>\n",
              "      <td>4</td>\n",
              "    </tr>\n",
              "    <tr>\n",
              "      <th>Ease of Online booking</th>\n",
              "      <td>2</td>\n",
              "      <td>4</td>\n",
              "      <td>4</td>\n",
              "      <td>3</td>\n",
              "      <td>3</td>\n",
              "      <td>2</td>\n",
              "      <td>1</td>\n",
              "      <td>4</td>\n",
              "      <td>2</td>\n",
              "      <td>4</td>\n",
              "    </tr>\n",
              "    <tr>\n",
              "      <th>Gate location</th>\n",
              "      <td>4</td>\n",
              "      <td>4</td>\n",
              "      <td>4</td>\n",
              "      <td>3</td>\n",
              "      <td>2</td>\n",
              "      <td>2</td>\n",
              "      <td>1</td>\n",
              "      <td>4</td>\n",
              "      <td>5</td>\n",
              "      <td>3</td>\n",
              "    </tr>\n",
              "    <tr>\n",
              "      <th>Food and drink</th>\n",
              "      <td>4</td>\n",
              "      <td>3</td>\n",
              "      <td>4</td>\n",
              "      <td>2</td>\n",
              "      <td>4</td>\n",
              "      <td>5</td>\n",
              "      <td>5</td>\n",
              "      <td>3</td>\n",
              "      <td>3</td>\n",
              "      <td>2</td>\n",
              "    </tr>\n",
              "    <tr>\n",
              "      <th>Online boarding</th>\n",
              "      <td>2</td>\n",
              "      <td>5</td>\n",
              "      <td>4</td>\n",
              "      <td>2</td>\n",
              "      <td>3</td>\n",
              "      <td>2</td>\n",
              "      <td>5</td>\n",
              "      <td>3</td>\n",
              "      <td>2</td>\n",
              "      <td>4</td>\n",
              "    </tr>\n",
              "    <tr>\n",
              "      <th>Seat comfort</th>\n",
              "      <td>4</td>\n",
              "      <td>4</td>\n",
              "      <td>3</td>\n",
              "      <td>2</td>\n",
              "      <td>4</td>\n",
              "      <td>5</td>\n",
              "      <td>5</td>\n",
              "      <td>3</td>\n",
              "      <td>3</td>\n",
              "      <td>3</td>\n",
              "    </tr>\n",
              "    <tr>\n",
              "      <th>Inflight entertainment</th>\n",
              "      <td>4</td>\n",
              "      <td>5</td>\n",
              "      <td>1</td>\n",
              "      <td>2</td>\n",
              "      <td>4</td>\n",
              "      <td>5</td>\n",
              "      <td>5</td>\n",
              "      <td>3</td>\n",
              "      <td>3</td>\n",
              "      <td>2</td>\n",
              "    </tr>\n",
              "    <tr>\n",
              "      <th>On-board service</th>\n",
              "      <td>3</td>\n",
              "      <td>5</td>\n",
              "      <td>1</td>\n",
              "      <td>4</td>\n",
              "      <td>5</td>\n",
              "      <td>4</td>\n",
              "      <td>1</td>\n",
              "      <td>3</td>\n",
              "      <td>5</td>\n",
              "      <td>4</td>\n",
              "    </tr>\n",
              "    <tr>\n",
              "      <th>Leg room service</th>\n",
              "      <td>1</td>\n",
              "      <td>5</td>\n",
              "      <td>1</td>\n",
              "      <td>4</td>\n",
              "      <td>2</td>\n",
              "      <td>5</td>\n",
              "      <td>4</td>\n",
              "      <td>5</td>\n",
              "      <td>2</td>\n",
              "      <td>2</td>\n",
              "    </tr>\n",
              "    <tr>\n",
              "      <th>Baggage handling</th>\n",
              "      <td>3</td>\n",
              "      <td>5</td>\n",
              "      <td>1</td>\n",
              "      <td>5</td>\n",
              "      <td>5</td>\n",
              "      <td>5</td>\n",
              "      <td>4</td>\n",
              "      <td>5</td>\n",
              "      <td>5</td>\n",
              "      <td>4</td>\n",
              "    </tr>\n",
              "    <tr>\n",
              "      <th>Checkin service</th>\n",
              "      <td>4</td>\n",
              "      <td>3</td>\n",
              "      <td>1</td>\n",
              "      <td>5</td>\n",
              "      <td>3</td>\n",
              "      <td>4</td>\n",
              "      <td>5</td>\n",
              "      <td>1</td>\n",
              "      <td>4</td>\n",
              "      <td>2</td>\n",
              "    </tr>\n",
              "    <tr>\n",
              "      <th>Inflight service</th>\n",
              "      <td>3</td>\n",
              "      <td>5</td>\n",
              "      <td>1</td>\n",
              "      <td>4</td>\n",
              "      <td>5</td>\n",
              "      <td>4</td>\n",
              "      <td>4</td>\n",
              "      <td>3</td>\n",
              "      <td>4</td>\n",
              "      <td>4</td>\n",
              "    </tr>\n",
              "    <tr>\n",
              "      <th>Cleanliness</th>\n",
              "      <td>4</td>\n",
              "      <td>3</td>\n",
              "      <td>2</td>\n",
              "      <td>2</td>\n",
              "      <td>4</td>\n",
              "      <td>5</td>\n",
              "      <td>5</td>\n",
              "      <td>3</td>\n",
              "      <td>3</td>\n",
              "      <td>2</td>\n",
              "    </tr>\n",
              "    <tr>\n",
              "      <th>Departure Delay in Minutes</th>\n",
              "      <td>10</td>\n",
              "      <td>0</td>\n",
              "      <td>0</td>\n",
              "      <td>0</td>\n",
              "      <td>0</td>\n",
              "      <td>0</td>\n",
              "      <td>2</td>\n",
              "      <td>0</td>\n",
              "      <td>0</td>\n",
              "      <td>10</td>\n",
              "    </tr>\n",
              "    <tr>\n",
              "      <th>Arrival Delay in Minutes</th>\n",
              "      <td>3.0</td>\n",
              "      <td>0.0</td>\n",
              "      <td>18.0</td>\n",
              "      <td>0.0</td>\n",
              "      <td>10.0</td>\n",
              "      <td>0.0</td>\n",
              "      <td>5.0</td>\n",
              "      <td>0.0</td>\n",
              "      <td>0.0</td>\n",
              "      <td>17.0</td>\n",
              "    </tr>\n",
              "    <tr>\n",
              "      <th>satisfaction</th>\n",
              "      <td>0</td>\n",
              "      <td>1</td>\n",
              "      <td>0</td>\n",
              "      <td>1</td>\n",
              "      <td>0</td>\n",
              "      <td>0</td>\n",
              "      <td>1</td>\n",
              "      <td>1</td>\n",
              "      <td>0</td>\n",
              "      <td>0</td>\n",
              "    </tr>\n",
              "  </tbody>\n",
              "</table>\n",
              "</div>\n",
              "      <button class=\"colab-df-convert\" onclick=\"convertToInteractive('df-72d6dac4-5301-45f6-803a-5f3db6d460c8')\"\n",
              "              title=\"Convert this dataframe to an interactive table.\"\n",
              "              style=\"display:none;\">\n",
              "        \n",
              "  <svg xmlns=\"http://www.w3.org/2000/svg\" height=\"24px\"viewBox=\"0 0 24 24\"\n",
              "       width=\"24px\">\n",
              "    <path d=\"M0 0h24v24H0V0z\" fill=\"none\"/>\n",
              "    <path d=\"M18.56 5.44l.94 2.06.94-2.06 2.06-.94-2.06-.94-.94-2.06-.94 2.06-2.06.94zm-11 1L8.5 8.5l.94-2.06 2.06-.94-2.06-.94L8.5 2.5l-.94 2.06-2.06.94zm10 10l.94 2.06.94-2.06 2.06-.94-2.06-.94-.94-2.06-.94 2.06-2.06.94z\"/><path d=\"M17.41 7.96l-1.37-1.37c-.4-.4-.92-.59-1.43-.59-.52 0-1.04.2-1.43.59L10.3 9.45l-7.72 7.72c-.78.78-.78 2.05 0 2.83L4 21.41c.39.39.9.59 1.41.59.51 0 1.02-.2 1.41-.59l7.78-7.78 2.81-2.81c.8-.78.8-2.07 0-2.86zM5.41 20L4 18.59l7.72-7.72 1.47 1.35L5.41 20z\"/>\n",
              "  </svg>\n",
              "      </button>\n",
              "      \n",
              "  <style>\n",
              "    .colab-df-container {\n",
              "      display:flex;\n",
              "      flex-wrap:wrap;\n",
              "      gap: 12px;\n",
              "    }\n",
              "\n",
              "    .colab-df-convert {\n",
              "      background-color: #E8F0FE;\n",
              "      border: none;\n",
              "      border-radius: 50%;\n",
              "      cursor: pointer;\n",
              "      display: none;\n",
              "      fill: #1967D2;\n",
              "      height: 32px;\n",
              "      padding: 0 0 0 0;\n",
              "      width: 32px;\n",
              "    }\n",
              "\n",
              "    .colab-df-convert:hover {\n",
              "      background-color: #E2EBFA;\n",
              "      box-shadow: 0px 1px 2px rgba(60, 64, 67, 0.3), 0px 1px 3px 1px rgba(60, 64, 67, 0.15);\n",
              "      fill: #174EA6;\n",
              "    }\n",
              "\n",
              "    [theme=dark] .colab-df-convert {\n",
              "      background-color: #3B4455;\n",
              "      fill: #D2E3FC;\n",
              "    }\n",
              "\n",
              "    [theme=dark] .colab-df-convert:hover {\n",
              "      background-color: #434B5C;\n",
              "      box-shadow: 0px 1px 3px 1px rgba(0, 0, 0, 0.15);\n",
              "      filter: drop-shadow(0px 1px 2px rgba(0, 0, 0, 0.3));\n",
              "      fill: #FFFFFF;\n",
              "    }\n",
              "  </style>\n",
              "\n",
              "      <script>\n",
              "        const buttonEl =\n",
              "          document.querySelector('#df-72d6dac4-5301-45f6-803a-5f3db6d460c8 button.colab-df-convert');\n",
              "        buttonEl.style.display =\n",
              "          google.colab.kernel.accessAllowed ? 'block' : 'none';\n",
              "\n",
              "        async function convertToInteractive(key) {\n",
              "          const element = document.querySelector('#df-72d6dac4-5301-45f6-803a-5f3db6d460c8');\n",
              "          const dataTable =\n",
              "            await google.colab.kernel.invokeFunction('convertToInteractive',\n",
              "                                                     [key], {});\n",
              "          if (!dataTable) return;\n",
              "\n",
              "          const docLinkHtml = 'Like what you see? Visit the ' +\n",
              "            '<a target=\"_blank\" href=https://colab.research.google.com/notebooks/data_table.ipynb>data table notebook</a>'\n",
              "            + ' to learn more about interactive tables.';\n",
              "          element.innerHTML = '';\n",
              "          dataTable['output_type'] = 'display_data';\n",
              "          await google.colab.output.renderOutput(dataTable, element);\n",
              "          const docLink = document.createElement('div');\n",
              "          docLink.innerHTML = docLinkHtml;\n",
              "          element.appendChild(docLink);\n",
              "        }\n",
              "      </script>\n",
              "    </div>\n",
              "  </div>\n",
              "  "
            ]
          },
          "metadata": {},
          "execution_count": 4
        }
      ],
      "source": [
        "# all datasets df => train , test_df => test, ss => sample subm\n",
        "df = pd.read_csv(\"/content/train_dataset.csv\")\n",
        "test_df = pd.read_csv(\"/content/test_dataset.csv\")\n",
        "ss = pd.read_csv(\"/content/sample_submission.csv\")\n",
        "\n",
        "df.T[range(0, 10)]"
      ]
    },
    {
      "cell_type": "markdown",
      "source": [
        ""
      ],
      "metadata": {
        "id": "IWUc0BC5bfk4"
      },
      "id": "IWUc0BC5bfk4"
    },
    {
      "cell_type": "code",
      "execution_count": 5,
      "id": "b7e02715",
      "metadata": {
        "execution": {
          "iopub.execute_input": "2022-05-28T07:30:10.595328Z",
          "iopub.status.busy": "2022-05-28T07:30:10.594677Z",
          "iopub.status.idle": "2022-05-28T07:30:10.617679Z",
          "shell.execute_reply": "2022-05-28T07:30:10.616322Z"
        },
        "papermill": {
          "duration": 0.033312,
          "end_time": "2022-05-28T07:30:10.620083",
          "exception": false,
          "start_time": "2022-05-28T07:30:10.586771",
          "status": "completed"
        },
        "tags": [],
        "colab": {
          "base_uri": "https://localhost:8080/",
          "height": 456
        },
        "id": "b7e02715",
        "outputId": "787bd80b-a854-44b9-bb82-4387af02d219"
      },
      "outputs": [
        {
          "output_type": "stream",
          "name": "stdout",
          "text": [
            "Shape (4000, 23)\n"
          ]
        },
        {
          "output_type": "execute_result",
          "data": {
            "text/plain": [
              "   id  Gender   Customer Type  Age   Type of Travel     Class  \\\n",
              "0   1  Female  Loyal Customer   25  Personal Travel       Eco   \n",
              "1   2  Female  Loyal Customer   49  Business travel  Business   \n",
              "2   3    Male  Loyal Customer   51  Business travel  Business   \n",
              "3   4    Male  Loyal Customer   34  Business travel  Eco Plus   \n",
              "4   5    Male  Loyal Customer   34  Personal Travel       Eco   \n",
              "\n",
              "   Flight Distance  Inflight wifi service  Departure/Arrival time convenient  \\\n",
              "0             2704                      2                                  2   \n",
              "1             1623                      1                                  1   \n",
              "2              338                      4                                  4   \n",
              "3               95                      0                                  0   \n",
              "4              602                      4                                  4   \n",
              "\n",
              "   Ease of Online booking  ...  Seat comfort  Inflight entertainment  \\\n",
              "0                       2  ...             5                       2   \n",
              "1                       1  ...             4                       2   \n",
              "2                       4  ...             5                       5   \n",
              "3                       0  ...             1                       5   \n",
              "4                       4  ...             5                       5   \n",
              "\n",
              "   On-board service  Leg room service  Baggage handling  Checkin service  \\\n",
              "0                 4                 4                 3                5   \n",
              "1                 2                 2                 2                4   \n",
              "2                 5                 5                 5                4   \n",
              "3                 4                 4                 1                3   \n",
              "4                 4                 5                 4                5   \n",
              "\n",
              "   Inflight service  Cleanliness  Departure Delay in Minutes  \\\n",
              "0                 1            5                         152   \n",
              "1                 2            3                          60   \n",
              "2                 5            4                           0   \n",
              "3                 3            5                           0   \n",
              "4                 5            5                         130   \n",
              "\n",
              "   Arrival Delay in Minutes  \n",
              "0                     191.0  \n",
              "1                      52.0  \n",
              "2                       0.0  \n",
              "3                       0.0  \n",
              "4                     140.0  \n",
              "\n",
              "[5 rows x 23 columns]"
            ],
            "text/html": [
              "\n",
              "  <div id=\"df-2d7f9fd0-7eef-4d39-aa10-eef9887c6e1c\">\n",
              "    <div class=\"colab-df-container\">\n",
              "      <div>\n",
              "<style scoped>\n",
              "    .dataframe tbody tr th:only-of-type {\n",
              "        vertical-align: middle;\n",
              "    }\n",
              "\n",
              "    .dataframe tbody tr th {\n",
              "        vertical-align: top;\n",
              "    }\n",
              "\n",
              "    .dataframe thead th {\n",
              "        text-align: right;\n",
              "    }\n",
              "</style>\n",
              "<table border=\"1\" class=\"dataframe\">\n",
              "  <thead>\n",
              "    <tr style=\"text-align: right;\">\n",
              "      <th></th>\n",
              "      <th>id</th>\n",
              "      <th>Gender</th>\n",
              "      <th>Customer Type</th>\n",
              "      <th>Age</th>\n",
              "      <th>Type of Travel</th>\n",
              "      <th>Class</th>\n",
              "      <th>Flight Distance</th>\n",
              "      <th>Inflight wifi service</th>\n",
              "      <th>Departure/Arrival time convenient</th>\n",
              "      <th>Ease of Online booking</th>\n",
              "      <th>...</th>\n",
              "      <th>Seat comfort</th>\n",
              "      <th>Inflight entertainment</th>\n",
              "      <th>On-board service</th>\n",
              "      <th>Leg room service</th>\n",
              "      <th>Baggage handling</th>\n",
              "      <th>Checkin service</th>\n",
              "      <th>Inflight service</th>\n",
              "      <th>Cleanliness</th>\n",
              "      <th>Departure Delay in Minutes</th>\n",
              "      <th>Arrival Delay in Minutes</th>\n",
              "    </tr>\n",
              "  </thead>\n",
              "  <tbody>\n",
              "    <tr>\n",
              "      <th>0</th>\n",
              "      <td>1</td>\n",
              "      <td>Female</td>\n",
              "      <td>Loyal Customer</td>\n",
              "      <td>25</td>\n",
              "      <td>Personal Travel</td>\n",
              "      <td>Eco</td>\n",
              "      <td>2704</td>\n",
              "      <td>2</td>\n",
              "      <td>2</td>\n",
              "      <td>2</td>\n",
              "      <td>...</td>\n",
              "      <td>5</td>\n",
              "      <td>2</td>\n",
              "      <td>4</td>\n",
              "      <td>4</td>\n",
              "      <td>3</td>\n",
              "      <td>5</td>\n",
              "      <td>1</td>\n",
              "      <td>5</td>\n",
              "      <td>152</td>\n",
              "      <td>191.0</td>\n",
              "    </tr>\n",
              "    <tr>\n",
              "      <th>1</th>\n",
              "      <td>2</td>\n",
              "      <td>Female</td>\n",
              "      <td>Loyal Customer</td>\n",
              "      <td>49</td>\n",
              "      <td>Business travel</td>\n",
              "      <td>Business</td>\n",
              "      <td>1623</td>\n",
              "      <td>1</td>\n",
              "      <td>1</td>\n",
              "      <td>1</td>\n",
              "      <td>...</td>\n",
              "      <td>4</td>\n",
              "      <td>2</td>\n",
              "      <td>2</td>\n",
              "      <td>2</td>\n",
              "      <td>2</td>\n",
              "      <td>4</td>\n",
              "      <td>2</td>\n",
              "      <td>3</td>\n",
              "      <td>60</td>\n",
              "      <td>52.0</td>\n",
              "    </tr>\n",
              "    <tr>\n",
              "      <th>2</th>\n",
              "      <td>3</td>\n",
              "      <td>Male</td>\n",
              "      <td>Loyal Customer</td>\n",
              "      <td>51</td>\n",
              "      <td>Business travel</td>\n",
              "      <td>Business</td>\n",
              "      <td>338</td>\n",
              "      <td>4</td>\n",
              "      <td>4</td>\n",
              "      <td>4</td>\n",
              "      <td>...</td>\n",
              "      <td>5</td>\n",
              "      <td>5</td>\n",
              "      <td>5</td>\n",
              "      <td>5</td>\n",
              "      <td>5</td>\n",
              "      <td>4</td>\n",
              "      <td>5</td>\n",
              "      <td>4</td>\n",
              "      <td>0</td>\n",
              "      <td>0.0</td>\n",
              "    </tr>\n",
              "    <tr>\n",
              "      <th>3</th>\n",
              "      <td>4</td>\n",
              "      <td>Male</td>\n",
              "      <td>Loyal Customer</td>\n",
              "      <td>34</td>\n",
              "      <td>Business travel</td>\n",
              "      <td>Eco Plus</td>\n",
              "      <td>95</td>\n",
              "      <td>0</td>\n",
              "      <td>0</td>\n",
              "      <td>0</td>\n",
              "      <td>...</td>\n",
              "      <td>1</td>\n",
              "      <td>5</td>\n",
              "      <td>4</td>\n",
              "      <td>4</td>\n",
              "      <td>1</td>\n",
              "      <td>3</td>\n",
              "      <td>3</td>\n",
              "      <td>5</td>\n",
              "      <td>0</td>\n",
              "      <td>0.0</td>\n",
              "    </tr>\n",
              "    <tr>\n",
              "      <th>4</th>\n",
              "      <td>5</td>\n",
              "      <td>Male</td>\n",
              "      <td>Loyal Customer</td>\n",
              "      <td>34</td>\n",
              "      <td>Personal Travel</td>\n",
              "      <td>Eco</td>\n",
              "      <td>602</td>\n",
              "      <td>4</td>\n",
              "      <td>4</td>\n",
              "      <td>4</td>\n",
              "      <td>...</td>\n",
              "      <td>5</td>\n",
              "      <td>5</td>\n",
              "      <td>4</td>\n",
              "      <td>5</td>\n",
              "      <td>4</td>\n",
              "      <td>5</td>\n",
              "      <td>5</td>\n",
              "      <td>5</td>\n",
              "      <td>130</td>\n",
              "      <td>140.0</td>\n",
              "    </tr>\n",
              "  </tbody>\n",
              "</table>\n",
              "<p>5 rows × 23 columns</p>\n",
              "</div>\n",
              "      <button class=\"colab-df-convert\" onclick=\"convertToInteractive('df-2d7f9fd0-7eef-4d39-aa10-eef9887c6e1c')\"\n",
              "              title=\"Convert this dataframe to an interactive table.\"\n",
              "              style=\"display:none;\">\n",
              "        \n",
              "  <svg xmlns=\"http://www.w3.org/2000/svg\" height=\"24px\"viewBox=\"0 0 24 24\"\n",
              "       width=\"24px\">\n",
              "    <path d=\"M0 0h24v24H0V0z\" fill=\"none\"/>\n",
              "    <path d=\"M18.56 5.44l.94 2.06.94-2.06 2.06-.94-2.06-.94-.94-2.06-.94 2.06-2.06.94zm-11 1L8.5 8.5l.94-2.06 2.06-.94-2.06-.94L8.5 2.5l-.94 2.06-2.06.94zm10 10l.94 2.06.94-2.06 2.06-.94-2.06-.94-.94-2.06-.94 2.06-2.06.94z\"/><path d=\"M17.41 7.96l-1.37-1.37c-.4-.4-.92-.59-1.43-.59-.52 0-1.04.2-1.43.59L10.3 9.45l-7.72 7.72c-.78.78-.78 2.05 0 2.83L4 21.41c.39.39.9.59 1.41.59.51 0 1.02-.2 1.41-.59l7.78-7.78 2.81-2.81c.8-.78.8-2.07 0-2.86zM5.41 20L4 18.59l7.72-7.72 1.47 1.35L5.41 20z\"/>\n",
              "  </svg>\n",
              "      </button>\n",
              "      \n",
              "  <style>\n",
              "    .colab-df-container {\n",
              "      display:flex;\n",
              "      flex-wrap:wrap;\n",
              "      gap: 12px;\n",
              "    }\n",
              "\n",
              "    .colab-df-convert {\n",
              "      background-color: #E8F0FE;\n",
              "      border: none;\n",
              "      border-radius: 50%;\n",
              "      cursor: pointer;\n",
              "      display: none;\n",
              "      fill: #1967D2;\n",
              "      height: 32px;\n",
              "      padding: 0 0 0 0;\n",
              "      width: 32px;\n",
              "    }\n",
              "\n",
              "    .colab-df-convert:hover {\n",
              "      background-color: #E2EBFA;\n",
              "      box-shadow: 0px 1px 2px rgba(60, 64, 67, 0.3), 0px 1px 3px 1px rgba(60, 64, 67, 0.15);\n",
              "      fill: #174EA6;\n",
              "    }\n",
              "\n",
              "    [theme=dark] .colab-df-convert {\n",
              "      background-color: #3B4455;\n",
              "      fill: #D2E3FC;\n",
              "    }\n",
              "\n",
              "    [theme=dark] .colab-df-convert:hover {\n",
              "      background-color: #434B5C;\n",
              "      box-shadow: 0px 1px 3px 1px rgba(0, 0, 0, 0.15);\n",
              "      filter: drop-shadow(0px 1px 2px rgba(0, 0, 0, 0.3));\n",
              "      fill: #FFFFFF;\n",
              "    }\n",
              "  </style>\n",
              "\n",
              "      <script>\n",
              "        const buttonEl =\n",
              "          document.querySelector('#df-2d7f9fd0-7eef-4d39-aa10-eef9887c6e1c button.colab-df-convert');\n",
              "        buttonEl.style.display =\n",
              "          google.colab.kernel.accessAllowed ? 'block' : 'none';\n",
              "\n",
              "        async function convertToInteractive(key) {\n",
              "          const element = document.querySelector('#df-2d7f9fd0-7eef-4d39-aa10-eef9887c6e1c');\n",
              "          const dataTable =\n",
              "            await google.colab.kernel.invokeFunction('convertToInteractive',\n",
              "                                                     [key], {});\n",
              "          if (!dataTable) return;\n",
              "\n",
              "          const docLinkHtml = 'Like what you see? Visit the ' +\n",
              "            '<a target=\"_blank\" href=https://colab.research.google.com/notebooks/data_table.ipynb>data table notebook</a>'\n",
              "            + ' to learn more about interactive tables.';\n",
              "          element.innerHTML = '';\n",
              "          dataTable['output_type'] = 'display_data';\n",
              "          await google.colab.output.renderOutput(dataTable, element);\n",
              "          const docLink = document.createElement('div');\n",
              "          docLink.innerHTML = docLinkHtml;\n",
              "          element.appendChild(docLink);\n",
              "        }\n",
              "      </script>\n",
              "    </div>\n",
              "  </div>\n",
              "  "
            ]
          },
          "metadata": {},
          "execution_count": 5
        }
      ],
      "source": [
        "print('Shape', test_df.shape)\n",
        "test_df.head()"
      ]
    },
    {
      "cell_type": "code",
      "execution_count": 6,
      "id": "ae8866c7",
      "metadata": {
        "execution": {
          "iopub.execute_input": "2022-05-28T07:30:10.636589Z",
          "iopub.status.busy": "2022-05-28T07:30:10.635849Z",
          "iopub.status.idle": "2022-05-28T07:30:10.644235Z",
          "shell.execute_reply": "2022-05-28T07:30:10.643374Z"
        },
        "papermill": {
          "duration": 0.019526,
          "end_time": "2022-05-28T07:30:10.647262",
          "exception": false,
          "start_time": "2022-05-28T07:30:10.627736",
          "status": "completed"
        },
        "tags": [],
        "colab": {
          "base_uri": "https://localhost:8080/",
          "height": 224
        },
        "id": "ae8866c7",
        "outputId": "15504289-9223-4049-bf5b-e9dec71ff1d9"
      },
      "outputs": [
        {
          "output_type": "stream",
          "name": "stdout",
          "text": [
            "Shape (4000, 2)\n"
          ]
        },
        {
          "output_type": "execute_result",
          "data": {
            "text/plain": [
              "   id  satisfaction\n",
              "0   1             0\n",
              "1   2             0\n",
              "2   3             0\n",
              "3   4             0\n",
              "4   5             0"
            ],
            "text/html": [
              "\n",
              "  <div id=\"df-26760735-6a27-4104-ab21-021da0dd145a\">\n",
              "    <div class=\"colab-df-container\">\n",
              "      <div>\n",
              "<style scoped>\n",
              "    .dataframe tbody tr th:only-of-type {\n",
              "        vertical-align: middle;\n",
              "    }\n",
              "\n",
              "    .dataframe tbody tr th {\n",
              "        vertical-align: top;\n",
              "    }\n",
              "\n",
              "    .dataframe thead th {\n",
              "        text-align: right;\n",
              "    }\n",
              "</style>\n",
              "<table border=\"1\" class=\"dataframe\">\n",
              "  <thead>\n",
              "    <tr style=\"text-align: right;\">\n",
              "      <th></th>\n",
              "      <th>id</th>\n",
              "      <th>satisfaction</th>\n",
              "    </tr>\n",
              "  </thead>\n",
              "  <tbody>\n",
              "    <tr>\n",
              "      <th>0</th>\n",
              "      <td>1</td>\n",
              "      <td>0</td>\n",
              "    </tr>\n",
              "    <tr>\n",
              "      <th>1</th>\n",
              "      <td>2</td>\n",
              "      <td>0</td>\n",
              "    </tr>\n",
              "    <tr>\n",
              "      <th>2</th>\n",
              "      <td>3</td>\n",
              "      <td>0</td>\n",
              "    </tr>\n",
              "    <tr>\n",
              "      <th>3</th>\n",
              "      <td>4</td>\n",
              "      <td>0</td>\n",
              "    </tr>\n",
              "    <tr>\n",
              "      <th>4</th>\n",
              "      <td>5</td>\n",
              "      <td>0</td>\n",
              "    </tr>\n",
              "  </tbody>\n",
              "</table>\n",
              "</div>\n",
              "      <button class=\"colab-df-convert\" onclick=\"convertToInteractive('df-26760735-6a27-4104-ab21-021da0dd145a')\"\n",
              "              title=\"Convert this dataframe to an interactive table.\"\n",
              "              style=\"display:none;\">\n",
              "        \n",
              "  <svg xmlns=\"http://www.w3.org/2000/svg\" height=\"24px\"viewBox=\"0 0 24 24\"\n",
              "       width=\"24px\">\n",
              "    <path d=\"M0 0h24v24H0V0z\" fill=\"none\"/>\n",
              "    <path d=\"M18.56 5.44l.94 2.06.94-2.06 2.06-.94-2.06-.94-.94-2.06-.94 2.06-2.06.94zm-11 1L8.5 8.5l.94-2.06 2.06-.94-2.06-.94L8.5 2.5l-.94 2.06-2.06.94zm10 10l.94 2.06.94-2.06 2.06-.94-2.06-.94-.94-2.06-.94 2.06-2.06.94z\"/><path d=\"M17.41 7.96l-1.37-1.37c-.4-.4-.92-.59-1.43-.59-.52 0-1.04.2-1.43.59L10.3 9.45l-7.72 7.72c-.78.78-.78 2.05 0 2.83L4 21.41c.39.39.9.59 1.41.59.51 0 1.02-.2 1.41-.59l7.78-7.78 2.81-2.81c.8-.78.8-2.07 0-2.86zM5.41 20L4 18.59l7.72-7.72 1.47 1.35L5.41 20z\"/>\n",
              "  </svg>\n",
              "      </button>\n",
              "      \n",
              "  <style>\n",
              "    .colab-df-container {\n",
              "      display:flex;\n",
              "      flex-wrap:wrap;\n",
              "      gap: 12px;\n",
              "    }\n",
              "\n",
              "    .colab-df-convert {\n",
              "      background-color: #E8F0FE;\n",
              "      border: none;\n",
              "      border-radius: 50%;\n",
              "      cursor: pointer;\n",
              "      display: none;\n",
              "      fill: #1967D2;\n",
              "      height: 32px;\n",
              "      padding: 0 0 0 0;\n",
              "      width: 32px;\n",
              "    }\n",
              "\n",
              "    .colab-df-convert:hover {\n",
              "      background-color: #E2EBFA;\n",
              "      box-shadow: 0px 1px 2px rgba(60, 64, 67, 0.3), 0px 1px 3px 1px rgba(60, 64, 67, 0.15);\n",
              "      fill: #174EA6;\n",
              "    }\n",
              "\n",
              "    [theme=dark] .colab-df-convert {\n",
              "      background-color: #3B4455;\n",
              "      fill: #D2E3FC;\n",
              "    }\n",
              "\n",
              "    [theme=dark] .colab-df-convert:hover {\n",
              "      background-color: #434B5C;\n",
              "      box-shadow: 0px 1px 3px 1px rgba(0, 0, 0, 0.15);\n",
              "      filter: drop-shadow(0px 1px 2px rgba(0, 0, 0, 0.3));\n",
              "      fill: #FFFFFF;\n",
              "    }\n",
              "  </style>\n",
              "\n",
              "      <script>\n",
              "        const buttonEl =\n",
              "          document.querySelector('#df-26760735-6a27-4104-ab21-021da0dd145a button.colab-df-convert');\n",
              "        buttonEl.style.display =\n",
              "          google.colab.kernel.accessAllowed ? 'block' : 'none';\n",
              "\n",
              "        async function convertToInteractive(key) {\n",
              "          const element = document.querySelector('#df-26760735-6a27-4104-ab21-021da0dd145a');\n",
              "          const dataTable =\n",
              "            await google.colab.kernel.invokeFunction('convertToInteractive',\n",
              "                                                     [key], {});\n",
              "          if (!dataTable) return;\n",
              "\n",
              "          const docLinkHtml = 'Like what you see? Visit the ' +\n",
              "            '<a target=\"_blank\" href=https://colab.research.google.com/notebooks/data_table.ipynb>data table notebook</a>'\n",
              "            + ' to learn more about interactive tables.';\n",
              "          element.innerHTML = '';\n",
              "          dataTable['output_type'] = 'display_data';\n",
              "          await google.colab.output.renderOutput(dataTable, element);\n",
              "          const docLink = document.createElement('div');\n",
              "          docLink.innerHTML = docLinkHtml;\n",
              "          element.appendChild(docLink);\n",
              "        }\n",
              "      </script>\n",
              "    </div>\n",
              "  </div>\n",
              "  "
            ]
          },
          "metadata": {},
          "execution_count": 6
        }
      ],
      "source": [
        "print('Shape', ss.shape)\n",
        "ss.head()"
      ]
    },
    {
      "cell_type": "markdown",
      "id": "0a101e6c",
      "metadata": {
        "papermill": {
          "duration": 0.00722,
          "end_time": "2022-05-28T07:30:10.662167",
          "exception": false,
          "start_time": "2022-05-28T07:30:10.654947",
          "status": "completed"
        },
        "tags": [],
        "id": "0a101e6c"
      },
      "source": [
        "# **Tahlil**"
      ]
    },
    {
      "cell_type": "code",
      "execution_count": 7,
      "id": "95a17f1a",
      "metadata": {
        "execution": {
          "iopub.execute_input": "2022-05-28T07:30:10.678566Z",
          "iopub.status.busy": "2022-05-28T07:30:10.678217Z",
          "iopub.status.idle": "2022-05-28T07:30:10.698989Z",
          "shell.execute_reply": "2022-05-28T07:30:10.697273Z"
        },
        "papermill": {
          "duration": 0.031123,
          "end_time": "2022-05-28T07:30:10.700779",
          "exception": false,
          "start_time": "2022-05-28T07:30:10.669656",
          "status": "completed"
        },
        "tags": [],
        "colab": {
          "base_uri": "https://localhost:8080/"
        },
        "id": "95a17f1a",
        "outputId": "3a933748-a001-42fd-87b9-b86df69dc32e"
      },
      "outputs": [
        {
          "output_type": "stream",
          "name": "stdout",
          "text": [
            "<class 'pandas.core.frame.DataFrame'>\n",
            "RangeIndex: 10000 entries, 0 to 9999\n",
            "Data columns (total 24 columns):\n",
            " #   Column                             Non-Null Count  Dtype  \n",
            "---  ------                             --------------  -----  \n",
            " 0   id                                 10000 non-null  int64  \n",
            " 1   Gender                             10000 non-null  object \n",
            " 2   Customer Type                      10000 non-null  object \n",
            " 3   Age                                10000 non-null  int64  \n",
            " 4   Type of Travel                     10000 non-null  object \n",
            " 5   Class                              10000 non-null  object \n",
            " 6   Flight Distance                    10000 non-null  int64  \n",
            " 7   Inflight wifi service              10000 non-null  int64  \n",
            " 8   Departure/Arrival time convenient  10000 non-null  int64  \n",
            " 9   Ease of Online booking             10000 non-null  int64  \n",
            " 10  Gate location                      10000 non-null  int64  \n",
            " 11  Food and drink                     10000 non-null  int64  \n",
            " 12  Online boarding                    10000 non-null  int64  \n",
            " 13  Seat comfort                       10000 non-null  int64  \n",
            " 14  Inflight entertainment             10000 non-null  int64  \n",
            " 15  On-board service                   10000 non-null  int64  \n",
            " 16  Leg room service                   10000 non-null  int64  \n",
            " 17  Baggage handling                   10000 non-null  int64  \n",
            " 18  Checkin service                    10000 non-null  int64  \n",
            " 19  Inflight service                   10000 non-null  int64  \n",
            " 20  Cleanliness                        10000 non-null  int64  \n",
            " 21  Departure Delay in Minutes         10000 non-null  int64  \n",
            " 22  Arrival Delay in Minutes           9972 non-null   float64\n",
            " 23  satisfaction                       10000 non-null  int64  \n",
            "dtypes: float64(1), int64(19), object(4)\n",
            "memory usage: 1.8+ MB\n"
          ]
        }
      ],
      "source": [
        "df.info()"
      ]
    },
    {
      "cell_type": "code",
      "execution_count": 8,
      "id": "74d63458",
      "metadata": {
        "execution": {
          "iopub.execute_input": "2022-05-28T07:30:10.718801Z",
          "iopub.status.busy": "2022-05-28T07:30:10.718248Z",
          "iopub.status.idle": "2022-05-28T07:30:10.729463Z",
          "shell.execute_reply": "2022-05-28T07:30:10.728201Z"
        },
        "papermill": {
          "duration": 0.022292,
          "end_time": "2022-05-28T07:30:10.731027",
          "exception": false,
          "start_time": "2022-05-28T07:30:10.708735",
          "status": "completed"
        },
        "tags": [],
        "colab": {
          "base_uri": "https://localhost:8080/"
        },
        "id": "74d63458",
        "outputId": "8404426c-a3f7-415d-9735-08de46e4bae7"
      },
      "outputs": [
        {
          "output_type": "stream",
          "name": "stdout",
          "text": [
            "Gender=> ['Male' 'Female'] == 2\n",
            "Customer Type=> ['disloyal Customer' 'Loyal Customer'] == 2\n",
            "Type of Travel=> ['Business travel' 'Personal Travel'] == 2\n",
            "Class=> ['Eco' 'Business' 'Eco Plus'] == 3\n"
          ]
        }
      ],
      "source": [
        "# matnli ustunlar\n",
        "CAT_COLS = ['Gender', 'Customer Type', 'Type of Travel', 'Class']\n",
        "\n",
        "for i in CAT_COLS:\n",
        "    print(i + '=>',  df[i].unique(), '== ' + str(len(df[i].unique())))"
      ]
    },
    {
      "cell_type": "code",
      "execution_count": 9,
      "id": "b16fe418",
      "metadata": {
        "execution": {
          "iopub.execute_input": "2022-05-28T07:30:10.748395Z",
          "iopub.status.busy": "2022-05-28T07:30:10.747849Z",
          "iopub.status.idle": "2022-05-28T07:30:10.760044Z",
          "shell.execute_reply": "2022-05-28T07:30:10.759416Z"
        },
        "papermill": {
          "duration": 0.022694,
          "end_time": "2022-05-28T07:30:10.761630",
          "exception": false,
          "start_time": "2022-05-28T07:30:10.738936",
          "status": "completed"
        },
        "tags": [],
        "id": "b16fe418"
      },
      "outputs": [],
      "source": [
        "df_org = df.copy()\n",
        "\n",
        "GENDER = {'Male': 1, 'Female': 0}\n",
        "CUSTOMER_TYPE = {'Loyal Customer':1, 'disloyal Customer':0}\n",
        "TYPE_OF_TRAVEL = {'Business travel':1, 'Personal Travel':0}\n",
        "CLASS = {'Business':2, 'Eco Plus':1, 'Eco':0}\n",
        "\n",
        "df['Gender'] = df['Gender'].map(GENDER)\n",
        "df['Customer Type'] = df['Customer Type'].map(CUSTOMER_TYPE)\n",
        "df['Type of Travel'] = df['Type of Travel'].map(TYPE_OF_TRAVEL)\n",
        "df['Class'] = df['Class'].map(CLASS)"
      ]
    },
    {
      "cell_type": "code",
      "execution_count": 10,
      "id": "b26b7d33",
      "metadata": {
        "execution": {
          "iopub.execute_input": "2022-05-28T07:30:10.779217Z",
          "iopub.status.busy": "2022-05-28T07:30:10.778695Z",
          "iopub.status.idle": "2022-05-28T07:30:10.795038Z",
          "shell.execute_reply": "2022-05-28T07:30:10.794148Z"
        },
        "papermill": {
          "duration": 0.027335,
          "end_time": "2022-05-28T07:30:10.796861",
          "exception": false,
          "start_time": "2022-05-28T07:30:10.769526",
          "status": "completed"
        },
        "tags": [],
        "colab": {
          "base_uri": "https://localhost:8080/",
          "height": 352
        },
        "id": "b26b7d33",
        "outputId": "29e1d9bf-8238-4996-b2dd-676840f9ff0a"
      },
      "outputs": [
        {
          "output_type": "execute_result",
          "data": {
            "text/plain": [
              "   id  Gender  Customer Type  Age  Type of Travel  Class  Flight Distance  \\\n",
              "0   1       1              0   33               1      0              571   \n",
              "1   2       0              1   49               1      2             1431   \n",
              "2   3       0              1   43               1      0              867   \n",
              "3   4       0              1   27               1      2             1550   \n",
              "4   5       1              1   11               0      0              526   \n",
              "\n",
              "   Inflight wifi service  Departure/Arrival time convenient  \\\n",
              "0                      2                                  3   \n",
              "1                      4                                  1   \n",
              "2                      1                                  4   \n",
              "3                      3                                  3   \n",
              "4                      3                                  4   \n",
              "\n",
              "   Ease of Online booking  ...  Inflight entertainment  On-board service  \\\n",
              "0                       2  ...                       4                 3   \n",
              "1                       4  ...                       5                 5   \n",
              "2                       4  ...                       1                 1   \n",
              "3                       3  ...                       2                 4   \n",
              "4                       3  ...                       4                 5   \n",
              "\n",
              "   Leg room service  Baggage handling  Checkin service  Inflight service  \\\n",
              "0                 1                 3                4                 3   \n",
              "1                 5                 5                3                 5   \n",
              "2                 1                 1                1                 1   \n",
              "3                 4                 5                5                 4   \n",
              "4                 2                 5                3                 5   \n",
              "\n",
              "   Cleanliness  Departure Delay in Minutes  Arrival Delay in Minutes  \\\n",
              "0            4                          10                       3.0   \n",
              "1            3                           0                       0.0   \n",
              "2            2                           0                      18.0   \n",
              "3            2                           0                       0.0   \n",
              "4            4                           0                      10.0   \n",
              "\n",
              "   satisfaction  \n",
              "0             0  \n",
              "1             1  \n",
              "2             0  \n",
              "3             1  \n",
              "4             0  \n",
              "\n",
              "[5 rows x 24 columns]"
            ],
            "text/html": [
              "\n",
              "  <div id=\"df-1b560f62-9862-49f0-88f3-c2eac311e8ac\">\n",
              "    <div class=\"colab-df-container\">\n",
              "      <div>\n",
              "<style scoped>\n",
              "    .dataframe tbody tr th:only-of-type {\n",
              "        vertical-align: middle;\n",
              "    }\n",
              "\n",
              "    .dataframe tbody tr th {\n",
              "        vertical-align: top;\n",
              "    }\n",
              "\n",
              "    .dataframe thead th {\n",
              "        text-align: right;\n",
              "    }\n",
              "</style>\n",
              "<table border=\"1\" class=\"dataframe\">\n",
              "  <thead>\n",
              "    <tr style=\"text-align: right;\">\n",
              "      <th></th>\n",
              "      <th>id</th>\n",
              "      <th>Gender</th>\n",
              "      <th>Customer Type</th>\n",
              "      <th>Age</th>\n",
              "      <th>Type of Travel</th>\n",
              "      <th>Class</th>\n",
              "      <th>Flight Distance</th>\n",
              "      <th>Inflight wifi service</th>\n",
              "      <th>Departure/Arrival time convenient</th>\n",
              "      <th>Ease of Online booking</th>\n",
              "      <th>...</th>\n",
              "      <th>Inflight entertainment</th>\n",
              "      <th>On-board service</th>\n",
              "      <th>Leg room service</th>\n",
              "      <th>Baggage handling</th>\n",
              "      <th>Checkin service</th>\n",
              "      <th>Inflight service</th>\n",
              "      <th>Cleanliness</th>\n",
              "      <th>Departure Delay in Minutes</th>\n",
              "      <th>Arrival Delay in Minutes</th>\n",
              "      <th>satisfaction</th>\n",
              "    </tr>\n",
              "  </thead>\n",
              "  <tbody>\n",
              "    <tr>\n",
              "      <th>0</th>\n",
              "      <td>1</td>\n",
              "      <td>1</td>\n",
              "      <td>0</td>\n",
              "      <td>33</td>\n",
              "      <td>1</td>\n",
              "      <td>0</td>\n",
              "      <td>571</td>\n",
              "      <td>2</td>\n",
              "      <td>3</td>\n",
              "      <td>2</td>\n",
              "      <td>...</td>\n",
              "      <td>4</td>\n",
              "      <td>3</td>\n",
              "      <td>1</td>\n",
              "      <td>3</td>\n",
              "      <td>4</td>\n",
              "      <td>3</td>\n",
              "      <td>4</td>\n",
              "      <td>10</td>\n",
              "      <td>3.0</td>\n",
              "      <td>0</td>\n",
              "    </tr>\n",
              "    <tr>\n",
              "      <th>1</th>\n",
              "      <td>2</td>\n",
              "      <td>0</td>\n",
              "      <td>1</td>\n",
              "      <td>49</td>\n",
              "      <td>1</td>\n",
              "      <td>2</td>\n",
              "      <td>1431</td>\n",
              "      <td>4</td>\n",
              "      <td>1</td>\n",
              "      <td>4</td>\n",
              "      <td>...</td>\n",
              "      <td>5</td>\n",
              "      <td>5</td>\n",
              "      <td>5</td>\n",
              "      <td>5</td>\n",
              "      <td>3</td>\n",
              "      <td>5</td>\n",
              "      <td>3</td>\n",
              "      <td>0</td>\n",
              "      <td>0.0</td>\n",
              "      <td>1</td>\n",
              "    </tr>\n",
              "    <tr>\n",
              "      <th>2</th>\n",
              "      <td>3</td>\n",
              "      <td>0</td>\n",
              "      <td>1</td>\n",
              "      <td>43</td>\n",
              "      <td>1</td>\n",
              "      <td>0</td>\n",
              "      <td>867</td>\n",
              "      <td>1</td>\n",
              "      <td>4</td>\n",
              "      <td>4</td>\n",
              "      <td>...</td>\n",
              "      <td>1</td>\n",
              "      <td>1</td>\n",
              "      <td>1</td>\n",
              "      <td>1</td>\n",
              "      <td>1</td>\n",
              "      <td>1</td>\n",
              "      <td>2</td>\n",
              "      <td>0</td>\n",
              "      <td>18.0</td>\n",
              "      <td>0</td>\n",
              "    </tr>\n",
              "    <tr>\n",
              "      <th>3</th>\n",
              "      <td>4</td>\n",
              "      <td>0</td>\n",
              "      <td>1</td>\n",
              "      <td>27</td>\n",
              "      <td>1</td>\n",
              "      <td>2</td>\n",
              "      <td>1550</td>\n",
              "      <td>3</td>\n",
              "      <td>3</td>\n",
              "      <td>3</td>\n",
              "      <td>...</td>\n",
              "      <td>2</td>\n",
              "      <td>4</td>\n",
              "      <td>4</td>\n",
              "      <td>5</td>\n",
              "      <td>5</td>\n",
              "      <td>4</td>\n",
              "      <td>2</td>\n",
              "      <td>0</td>\n",
              "      <td>0.0</td>\n",
              "      <td>1</td>\n",
              "    </tr>\n",
              "    <tr>\n",
              "      <th>4</th>\n",
              "      <td>5</td>\n",
              "      <td>1</td>\n",
              "      <td>1</td>\n",
              "      <td>11</td>\n",
              "      <td>0</td>\n",
              "      <td>0</td>\n",
              "      <td>526</td>\n",
              "      <td>3</td>\n",
              "      <td>4</td>\n",
              "      <td>3</td>\n",
              "      <td>...</td>\n",
              "      <td>4</td>\n",
              "      <td>5</td>\n",
              "      <td>2</td>\n",
              "      <td>5</td>\n",
              "      <td>3</td>\n",
              "      <td>5</td>\n",
              "      <td>4</td>\n",
              "      <td>0</td>\n",
              "      <td>10.0</td>\n",
              "      <td>0</td>\n",
              "    </tr>\n",
              "  </tbody>\n",
              "</table>\n",
              "<p>5 rows × 24 columns</p>\n",
              "</div>\n",
              "      <button class=\"colab-df-convert\" onclick=\"convertToInteractive('df-1b560f62-9862-49f0-88f3-c2eac311e8ac')\"\n",
              "              title=\"Convert this dataframe to an interactive table.\"\n",
              "              style=\"display:none;\">\n",
              "        \n",
              "  <svg xmlns=\"http://www.w3.org/2000/svg\" height=\"24px\"viewBox=\"0 0 24 24\"\n",
              "       width=\"24px\">\n",
              "    <path d=\"M0 0h24v24H0V0z\" fill=\"none\"/>\n",
              "    <path d=\"M18.56 5.44l.94 2.06.94-2.06 2.06-.94-2.06-.94-.94-2.06-.94 2.06-2.06.94zm-11 1L8.5 8.5l.94-2.06 2.06-.94-2.06-.94L8.5 2.5l-.94 2.06-2.06.94zm10 10l.94 2.06.94-2.06 2.06-.94-2.06-.94-.94-2.06-.94 2.06-2.06.94z\"/><path d=\"M17.41 7.96l-1.37-1.37c-.4-.4-.92-.59-1.43-.59-.52 0-1.04.2-1.43.59L10.3 9.45l-7.72 7.72c-.78.78-.78 2.05 0 2.83L4 21.41c.39.39.9.59 1.41.59.51 0 1.02-.2 1.41-.59l7.78-7.78 2.81-2.81c.8-.78.8-2.07 0-2.86zM5.41 20L4 18.59l7.72-7.72 1.47 1.35L5.41 20z\"/>\n",
              "  </svg>\n",
              "      </button>\n",
              "      \n",
              "  <style>\n",
              "    .colab-df-container {\n",
              "      display:flex;\n",
              "      flex-wrap:wrap;\n",
              "      gap: 12px;\n",
              "    }\n",
              "\n",
              "    .colab-df-convert {\n",
              "      background-color: #E8F0FE;\n",
              "      border: none;\n",
              "      border-radius: 50%;\n",
              "      cursor: pointer;\n",
              "      display: none;\n",
              "      fill: #1967D2;\n",
              "      height: 32px;\n",
              "      padding: 0 0 0 0;\n",
              "      width: 32px;\n",
              "    }\n",
              "\n",
              "    .colab-df-convert:hover {\n",
              "      background-color: #E2EBFA;\n",
              "      box-shadow: 0px 1px 2px rgba(60, 64, 67, 0.3), 0px 1px 3px 1px rgba(60, 64, 67, 0.15);\n",
              "      fill: #174EA6;\n",
              "    }\n",
              "\n",
              "    [theme=dark] .colab-df-convert {\n",
              "      background-color: #3B4455;\n",
              "      fill: #D2E3FC;\n",
              "    }\n",
              "\n",
              "    [theme=dark] .colab-df-convert:hover {\n",
              "      background-color: #434B5C;\n",
              "      box-shadow: 0px 1px 3px 1px rgba(0, 0, 0, 0.15);\n",
              "      filter: drop-shadow(0px 1px 2px rgba(0, 0, 0, 0.3));\n",
              "      fill: #FFFFFF;\n",
              "    }\n",
              "  </style>\n",
              "\n",
              "      <script>\n",
              "        const buttonEl =\n",
              "          document.querySelector('#df-1b560f62-9862-49f0-88f3-c2eac311e8ac button.colab-df-convert');\n",
              "        buttonEl.style.display =\n",
              "          google.colab.kernel.accessAllowed ? 'block' : 'none';\n",
              "\n",
              "        async function convertToInteractive(key) {\n",
              "          const element = document.querySelector('#df-1b560f62-9862-49f0-88f3-c2eac311e8ac');\n",
              "          const dataTable =\n",
              "            await google.colab.kernel.invokeFunction('convertToInteractive',\n",
              "                                                     [key], {});\n",
              "          if (!dataTable) return;\n",
              "\n",
              "          const docLinkHtml = 'Like what you see? Visit the ' +\n",
              "            '<a target=\"_blank\" href=https://colab.research.google.com/notebooks/data_table.ipynb>data table notebook</a>'\n",
              "            + ' to learn more about interactive tables.';\n",
              "          element.innerHTML = '';\n",
              "          dataTable['output_type'] = 'display_data';\n",
              "          await google.colab.output.renderOutput(dataTable, element);\n",
              "          const docLink = document.createElement('div');\n",
              "          docLink.innerHTML = docLinkHtml;\n",
              "          element.appendChild(docLink);\n",
              "        }\n",
              "      </script>\n",
              "    </div>\n",
              "  </div>\n",
              "  "
            ]
          },
          "metadata": {},
          "execution_count": 10
        }
      ],
      "source": [
        "df.head()"
      ]
    },
    {
      "cell_type": "code",
      "execution_count": 11,
      "id": "75d55d48",
      "metadata": {
        "execution": {
          "iopub.execute_input": "2022-05-28T07:30:10.816241Z",
          "iopub.status.busy": "2022-05-28T07:30:10.815008Z",
          "iopub.status.idle": "2022-05-28T07:30:11.350778Z",
          "shell.execute_reply": "2022-05-28T07:30:11.349880Z"
        },
        "papermill": {
          "duration": 0.547876,
          "end_time": "2022-05-28T07:30:11.353113",
          "exception": false,
          "start_time": "2022-05-28T07:30:10.805237",
          "status": "completed"
        },
        "tags": [],
        "colab": {
          "base_uri": "https://localhost:8080/",
          "height": 518
        },
        "id": "75d55d48",
        "outputId": "5fad605c-cbc1-4fcd-a37a-f1b101491130"
      },
      "outputs": [
        {
          "output_type": "display_data",
          "data": {
            "text/plain": [
              "<Figure size 864x576 with 1 Axes>"
            ],
            "image/png": "[encoded data removed]"
          },
          "metadata": {}
        }
      ],
      "source": [
        "plt.figure(figsize=(12, 8))\n",
        "sns.histplot(data=df_org, x='Age', hue='Gender')\n",
        "plt.title(\"Yoshning jinsga nisbati\");"
      ]
    },
    {
      "cell_type": "code",
      "execution_count": 12,
      "id": "b441b93e",
      "metadata": {
        "execution": {
          "iopub.execute_input": "2022-05-28T07:30:11.371925Z",
          "iopub.status.busy": "2022-05-28T07:30:11.371530Z",
          "iopub.status.idle": "2022-05-28T07:30:11.907874Z",
          "shell.execute_reply": "2022-05-28T07:30:11.907039Z"
        },
        "papermill": {
          "duration": 0.548631,
          "end_time": "2022-05-28T07:30:11.910457",
          "exception": false,
          "start_time": "2022-05-28T07:30:11.361826",
          "status": "completed"
        },
        "tags": [],
        "colab": {
          "base_uri": "https://localhost:8080/",
          "height": 611
        },
        "id": "b441b93e",
        "outputId": "ab8c6204-3f29-4044-8295-743c3e800de6"
      },
      "outputs": [
        {
          "output_type": "display_data",
          "data": {
            "text/plain": [
              "<Figure size 864x720 with 4 Axes>"
            ],
            "image/png": "[encoded data removed]"
          },
          "metadata": {}
        }
      ],
      "source": [
        "fig, ax = plt.subplots(2, 2, figsize=(12, 10))\n",
        "\n",
        "sns.countplot(ax=ax[0, 0], data=df_org, x='Gender')\n",
        "sns.countplot(ax=ax[0, 1], data=df_org, x='Gender', hue='Customer Type')\n",
        "sns.countplot(ax=ax[1, 0], data=df_org, x='Gender', hue='Type of Travel')\n",
        "sns.countplot(ax=ax[1, 1], data=df_org, x='Gender', hue='Class');"
      ]
    },
    {
      "cell_type": "code",
      "execution_count": 13,
      "id": "c16a0091",
      "metadata": {
        "execution": {
          "iopub.execute_input": "2022-05-28T07:30:11.930409Z",
          "iopub.status.busy": "2022-05-28T07:30:11.930055Z",
          "iopub.status.idle": "2022-05-28T07:30:11.952790Z",
          "shell.execute_reply": "2022-05-28T07:30:11.952034Z"
        },
        "papermill": {
          "duration": 0.035223,
          "end_time": "2022-05-28T07:30:11.954774",
          "exception": false,
          "start_time": "2022-05-28T07:30:11.919551",
          "status": "completed"
        },
        "tags": [],
        "colab": {
          "base_uri": "https://localhost:8080/"
        },
        "id": "c16a0091",
        "outputId": "f08c5b28-9a34-4619-97e1-d129925cc2ec"
      },
      "outputs": [
        {
          "output_type": "execute_result",
          "data": {
            "text/plain": [
              "satisfaction                         100.000000\n",
              "Class                                 51.893105\n",
              "Online boarding                       50.498562\n",
              "Type of Travel                        48.226628\n",
              "Inflight entertainment                40.089954\n",
              "Seat comfort                          34.229377\n",
              "On-board service                      32.642642\n",
              "Leg room service                      32.436790\n",
              "Cleanliness                           31.033803\n",
              "Flight Distance                       29.870298\n",
              "Inflight wifi service                 27.739521\n",
              "Baggage handling                      24.796452\n",
              "Inflight service                      24.058363\n",
              "Checkin service                       23.235876\n",
              "Food and drink                        20.785353\n",
              "Customer Type                         18.159192\n",
              "Ease of Online booking                16.466159\n",
              "Age                                   14.430214\n",
              "Departure/Arrival time convenient      6.763835\n",
              "Arrival Delay in Minutes               4.864993\n",
              "Departure Delay in Minutes             4.296014\n",
              "Gate location                          0.716950\n",
              "Gender                                 0.260149\n",
              "dtype: float64"
            ]
          },
          "metadata": {},
          "execution_count": 13
        }
      ],
      "source": [
        "# korelyatsiya\n",
        "df.drop('id', axis=1, inplace=True)\n",
        "df.corrwith(df['satisfaction']).abs().sort_values(ascending=False)*100"
      ]
    },
    {
      "cell_type": "code",
      "source": [
        "plt.pie(df.satisfaction.value_counts(), labels = [\"Neutral or dissatisfied\", \"Satisfied\"], colors = sns.color_palette(\"YlOrBr\"), autopct = '%1.1f%%')\n",
        "pass"
      ],
      "metadata": {
        "id": "R_QpkGZBdqTX",
        "outputId": "20d3cb19-eab8-4019-d9eb-0166ba335a22",
        "colab": {
          "base_uri": "https://localhost:8080/",
          "height": 248
        }
      },
      "id": "R_QpkGZBdqTX",
      "execution_count": 31,
      "outputs": [
        {
          "output_type": "display_data",
          "data": {
            "text/plain": [
              "<Figure size 432x288 with 1 Axes>"
            ],
            "image/png": "[encoded data removed]"
          },
          "metadata": {}
        }
      ]
    },
    {
      "cell_type": "code",
      "source": [
        "plt.scatter(df['Arrival Delay in Minutes'], df['Departure Delay in Minutes'], alpha = 0.5)\n",
        "pass"
      ],
      "metadata": {
        "id": "r2AspVgxdyN_",
        "outputId": "6c94ca18-b87b-4d49-8c7a-a7e5bc7e43c1",
        "colab": {
          "base_uri": "https://localhost:8080/",
          "height": 268
        }
      },
      "id": "r2AspVgxdyN_",
      "execution_count": 33,
      "outputs": [
        {
          "output_type": "display_data",
          "data": {
            "text/plain": [
              "<Figure size 432x288 with 1 Axes>"
            ],
            "image/png": "[encoded data removed]"
          },
          "metadata": {}
        }
      ]
    },
    {
      "cell_type": "markdown",
      "source": [
        "Siz ushbu grafikdan nuqtalar pastki chap burchakdan yuqori o'ngga o'tadigan to'g'ri chiziq bo'ylab ko'proq yoki kamroq qatorlanganligini ko'rishingiz mumkin. Shunday qilib, ba'zi bir taxminlarda kelish vaqtining kechikishining jo'nash vaqtining kechikishiga bog'liqligi chiziqli bo'ladi.\n",
        "\n",
        "Olingan natijalar juda mantiqiy va quyidagicha izohlanishi mumkin. Agar aviakompaniya mijozlarining parvozi jo'nash vaqtida ma'lum vaqtga kechiktirilgan bo'lsa, u holda parvoz qo'nish vaqtida taxminan bir xil vaqtga kechiktiriladi (agar samolyot yo'qolgan vaqtni qoplash uchun parvozda tezlashmasa). .\n",
        "\n",
        "Kategorik xususiyatlarning har biri uchun qiymatlar nisbatini ko'rib chiqing:"
      ],
      "metadata": {
        "id": "7Y7vE4zKeF4g"
      },
      "id": "7Y7vE4zKeF4g"
    },
    {
      "cell_type": "code",
      "source": [
        "f, ax = plt.subplots(1, 2, figsize = (15,5))\n",
        "sns.boxplot(x = \"Customer Type\", y = \"Age\", palette = \"YlOrBr\", data = df, ax = ax[0])\n",
        "sns.histplot(df, x = \"Age\", hue = \"Customer Type\", multiple = \"stack\", palette = \"YlOrBr\", edgecolor = \".3\", linewidth = .5, ax = ax[1])\n",
        "pass"
      ],
      "metadata": {
        "id": "ypZjPsI0eSNo",
        "outputId": "0b7099a8-43e5-4fc0-b785-c7d048f6e807",
        "colab": {
          "base_uri": "https://localhost:8080/",
          "height": 339
        }
      },
      "id": "ypZjPsI0eSNo",
      "execution_count": 36,
      "outputs": [
        {
          "output_type": "display_data",
          "data": {
            "text/plain": [
              "<Figure size 1080x360 with 2 Axes>"
            ],
            "image/png": "[encoded data removed]"
          },
          "metadata": {}
        }
      ]
    },
    {
      "cell_type": "markdown",
      "source": [
        "Ushbu diagrammasidan xulosa qilishimiz mumkinki, aviakompaniyaning doimiy mijozlarining ko'pchiligi 30 yoshdan 50 yoshgacha (ularning o'rtacha yoshi 40 yoshdan biroz yuqori). Doimiy bo'lmagan mijozlarning yosh diapazoni biroz kichikroq (25 yoshdan 40 yoshgacha, o'rtacha - 30 dan bir oz kamroq)."
      ],
      "metadata": {
        "id": "gBsiiT4Le1sk"
      },
      "id": "gBsiiT4Le1sk"
    },
    {
      "cell_type": "code",
      "source": [
        "f, ax = plt.subplots(1, 2, figsize = (15,5))\n",
        "sns.boxplot(x = \"Class\", y = \"Age\", palette = \"YlOrBr\", data = df, ax = ax[0])\n",
        "sns.histplot(df, x = \"Age\", hue = \"Class\", multiple = \"stack\", palette = \"YlOrBr\", edgecolor = \".3\", linewidth = .5, ax = ax[1])\n",
        "pass"
      ],
      "metadata": {
        "id": "BE1fo3gwe4mk",
        "outputId": "d055c326-2a8c-4e2a-f1d6-dfbbb3f9944d",
        "colab": {
          "base_uri": "https://localhost:8080/",
          "height": 339
        }
      },
      "id": "BE1fo3gwe4mk",
      "execution_count": 37,
      "outputs": [
        {
          "output_type": "display_data",
          "data": {
            "text/plain": [
              "<Figure size 1080x360 with 2 Axes>"
            ],
            "image/png": "[encoded data removed]"
          },
          "metadata": {}
        }
      ]
    },
    {
      "cell_type": "markdown",
      "source": [
        "Ko'rinib turibdiki, biznes-klassda sayohat qiladigan mijozlarning yosh diapazoni o'rtacha hisobda (oldingi quti jadvaliga ko'ra) doimiy mijozlarning yosh diapazoni bilan bir xil. Ushbu kuzatuvga asoslanib, doimiy mijozlar asosan biznes-klassni o'zlari uchun sotib olishadi deb taxmin qilish mumkin."
      ],
      "metadata": {
        "id": "yx5CJJMWfNgn"
      },
      "id": "yx5CJJMWfNgn"
    },
    {
      "cell_type": "code",
      "source": [
        "f, ax = plt.subplots(1, 2, figsize = (15,5))\n",
        "sns.boxplot(x = \"Class\", y = \"Flight Distance\", palette = \"YlOrBr\", data = df, ax = ax[0])\n",
        "sns.histplot(df, x = \"Flight Distance\", hue = \"Class\", multiple = \"stack\", palette = \"YlOrBr\", edgecolor = \".3\", linewidth = .5, ax = ax[1])\n",
        "pass"
      ],
      "metadata": {
        "id": "WgLPDnxQfPN3",
        "outputId": "d3df02f6-24d1-412a-cb11-b61b263e6f8b",
        "colab": {
          "base_uri": "https://localhost:8080/",
          "height": 339
        }
      },
      "id": "WgLPDnxQfPN3",
      "execution_count": 38,
      "outputs": [
        {
          "output_type": "display_data",
          "data": {
            "text/plain": [
              "<Figure size 1080x360 with 2 Axes>"
            ],
            "image/png": "[encoded data removed]"
          },
          "metadata": {}
        }
      ]
    },
    {
      "cell_type": "markdown",
      "metadata": {
        "papermill": {
          "duration": 0.193327,
          "end_time": "2022-08-06T01:59:16.000341",
          "exception": false,
          "start_time": "2022-08-06T01:59:15.807014",
          "status": "completed"
        },
        "tags": [],
        "id": "f0d04f3e"
      },
      "source": [
        "Ushbu quti diagrammasidan quyidagi xulosa chiqarish mumkin:parvoz masofasi uzoq bo'lgan mijozlar asosan biznes-klassda uchadilar"
      ],
      "id": "f0d04f3e"
    },
    {
      "cell_type": "code",
      "execution_count": 41,
      "metadata": {
        "execution": {
          "iopub.execute_input": "2022-08-06T01:59:16.396189Z",
          "iopub.status.busy": "2022-08-06T01:59:16.395150Z",
          "iopub.status.idle": "2022-08-06T01:59:20.100088Z",
          "shell.execute_reply": "2022-08-06T01:59:20.100601Z",
          "shell.execute_reply.started": "2022-02-06T20:16:09.805453Z"
        },
        "papermill": {
          "duration": 3.900247,
          "end_time": "2022-08-06T01:59:20.100792",
          "exception": false,
          "start_time": "2022-08-06T01:59:16.200545",
          "status": "completed"
        },
        "tags": [],
        "id": "dfbc57dd",
        "outputId": "8704a5ee-8831-4a34-e438-8faf5932a17b",
        "colab": {
          "base_uri": "https://localhost:8080/",
          "height": 502
        }
      },
      "outputs": [
        {
          "output_type": "display_data",
          "data": {
            "text/plain": [
              "<Figure size 1080x576 with 4 Axes>"
            ],
            "image/png": "[encoded data removed]"
          },
          "metadata": {}
        }
      ],
      "source": [
        "f, ax = plt.subplots(2, 2, figsize = (15,8))\n",
        "sns.boxplot(x = \"Inflight entertainment\", y = \"Flight Distance\", palette = \"YlOrBr\", data = df, ax = ax[0, 0])\n",
        "sns.histplot(df, x = \"Flight Distance\", hue = \"Inflight entertainment\", multiple = \"stack\", palette = \"YlOrBr\", edgecolor = \".3\", linewidth = .5, ax = ax[0, 1])\n",
        "sns.boxplot(x = \"Leg room service\", y = \"Flight Distance\", palette = \"YlOrBr\", data = df, ax = ax[1, 0])\n",
        "sns.histplot(df, x = \"Flight Distance\", hue = \"Leg room service\", multiple = \"stack\", palette = \"YlOrBr\", edgecolor = \".3\", linewidth = .5, ax = ax[1, 1])\n",
        "pass"
      ],
      "id": "dfbc57dd"
    },
    {
      "cell_type": "markdown",
      "source": [
        "Quyidagi grafikdan shuni ko'rish mumkinki: samolyot yo'lovchisi qanchalik ko'p masofani bosib o'tgan bo'lsa (mos ravishda, ular parvozda qancha uzoq bo'lsa), ular parvozdagi o'yin-kulgidan va qo'shimcha oyoq xonasidan (o'rtacha) qoniqadi."
      ],
      "metadata": {
        "id": "q4MNPNyKgJ32"
      },
      "id": "q4MNPNyKgJ32"
    },
    {
      "cell_type": "markdown",
      "source": [
        "Endi ba'zi kategorik xususiyatlarning maqsadga bog'liqlik grafiklarini ko'rib chiqing"
      ],
      "metadata": {
        "id": "2csdBd30gY4S"
      },
      "id": "2csdBd30gY4S"
    },
    {
      "cell_type": "markdown",
      "source": [
        "Ushbu jadval juda aniq. Ko‘rish mumkinki, ekonom plyus yoki ekonom-klassda uchgan yo‘lovchilarning ko‘pchiligi parvozdan norozi bo‘lgan, biznes-klassda uchish baxtiga muyassar bo‘lganlar esa parvozdan qanoat hosi qilgan"
      ],
      "metadata": {
        "id": "9YAaCfxYgzfU"
      },
      "id": "9YAaCfxYgzfU"
    },
    {
      "cell_type": "code",
      "execution_count": 47,
      "metadata": {
        "execution": {
          "iopub.execute_input": "2022-08-06T01:59:22.329302Z",
          "iopub.status.busy": "2022-08-06T01:59:22.328558Z",
          "iopub.status.idle": "2022-08-06T01:59:22.614861Z",
          "shell.execute_reply": "2022-08-06T01:59:22.615449Z",
          "shell.execute_reply.started": "2022-02-06T20:16:13.983774Z"
        },
        "papermill": {
          "duration": 0.508484,
          "end_time": "2022-08-06T01:59:22.615666",
          "exception": false,
          "start_time": "2022-08-06T01:59:22.107182",
          "status": "completed"
        },
        "scrolled": true,
        "tags": [],
        "id": "2cd3d246",
        "outputId": "a32ca9ad-68a4-42e6-b34e-e7dfc2ac6aa4",
        "colab": {
          "base_uri": "https://localhost:8080/",
          "height": 285
        }
      },
      "outputs": [
        {
          "output_type": "display_data",
          "data": {
            "text/plain": [
              "<Figure size 432x288 with 1 Axes>"
            ],
            "image/png": "[encoded data removed]"
          },
          "metadata": {}
        }
      ],
      "source": [
        "sns.countplot(x = 'Inflight wifi service', hue = 'satisfaction', palette = \"YlOrBr\", data = df)\n",
        "plt.show()"
      ],
      "id": "2cd3d246"
    },
    {
      "cell_type": "markdown",
      "source": [
        "Ushbu grafikga ko'ra, siz<b>wifi xizmatini 5 balldan 5 ballga baholagan yo'lovchilarning deyarli barchasi parvozdan qoniqish hosil qilganini</b> ko'rishingiz mumkin."
      ],
      "metadata": {
        "id": "KkXMTdEshs7-"
      },
      "id": "KkXMTdEshs7-"
    },
    {
      "cell_type": "code",
      "execution_count": 48,
      "metadata": {
        "execution": {
          "iopub.execute_input": "2022-08-06T01:59:23.413516Z",
          "iopub.status.busy": "2022-08-06T01:59:23.411355Z",
          "iopub.status.idle": "2022-08-06T01:59:23.909023Z",
          "shell.execute_reply": "2022-08-06T01:59:23.909528Z",
          "shell.execute_reply.started": "2022-02-06T20:16:14.304607Z"
        },
        "papermill": {
          "duration": 0.706419,
          "end_time": "2022-08-06T01:59:23.909726",
          "exception": false,
          "start_time": "2022-08-06T01:59:23.203307",
          "status": "completed"
        },
        "tags": [],
        "id": "ec914324",
        "outputId": "27f45f84-538c-4864-c87f-03dea778ef0f",
        "colab": {
          "base_uri": "https://localhost:8080/",
          "height": 273
        }
      },
      "outputs": [
        {
          "output_type": "display_data",
          "data": {
            "text/plain": [
              "<Figure size 1440x360 with 2 Axes>"
            ],
            "image/png": "[encoded data removed]"
          },
          "metadata": {}
        }
      ],
      "source": [
        "f, ax = plt.subplots(1, 2, figsize = (20,5))\n",
        "sns.countplot(x = 'Seat comfort', hue = 'satisfaction', palette = \"YlOrBr\", data = df, ax = ax[0])\n",
        "sns.countplot(x = 'Leg room service', hue = 'satisfaction', palette = \"YlOrBr\", data = df, ax = ax[1])\n",
        "plt.show()\n"
      ],
      "id": "ec914324"
    },
    {
      "cell_type": "markdown",
      "id": "9d7888a2",
      "metadata": {
        "papermill": {
          "duration": 0.009123,
          "end_time": "2022-05-28T07:30:11.973301",
          "exception": false,
          "start_time": "2022-05-28T07:30:11.964178",
          "status": "completed"
        },
        "tags": [],
        "id": "9d7888a2"
      },
      "source": [
        "# **Machine Learning**"
      ]
    },
    {
      "cell_type": "code",
      "execution_count": 14,
      "id": "2b590a3f",
      "metadata": {
        "execution": {
          "iopub.execute_input": "2022-05-28T07:30:11.994615Z",
          "iopub.status.busy": "2022-05-28T07:30:11.993707Z",
          "iopub.status.idle": "2022-05-28T07:30:12.005000Z",
          "shell.execute_reply": "2022-05-28T07:30:12.004336Z"
        },
        "papermill": {
          "duration": 0.024167,
          "end_time": "2022-05-28T07:30:12.006860",
          "exception": false,
          "start_time": "2022-05-28T07:30:11.982693",
          "status": "completed"
        },
        "tags": [],
        "id": "2b590a3f"
      },
      "outputs": [],
      "source": [
        "strat_split = StratifiedShuffleSplit(n_splits=1, test_size=0.2, random_state=42)\n",
        "for tr_idx, te_idx in strat_split.split(df, df['Gender']):\n",
        "    st_trainset = df.iloc[tr_idx]\n",
        "    st_testset = df.iloc[te_idx]"
      ]
    },
    {
      "cell_type": "code",
      "execution_count": 15,
      "id": "173fa105",
      "metadata": {
        "execution": {
          "iopub.execute_input": "2022-05-28T07:30:12.027838Z",
          "iopub.status.busy": "2022-05-28T07:30:12.027462Z",
          "iopub.status.idle": "2022-05-28T07:30:12.044862Z",
          "shell.execute_reply": "2022-05-28T07:30:12.043971Z"
        },
        "papermill": {
          "duration": 0.030321,
          "end_time": "2022-05-28T07:30:12.046615",
          "exception": false,
          "start_time": "2022-05-28T07:30:12.016294",
          "status": "completed"
        },
        "tags": [],
        "colab": {
          "base_uri": "https://localhost:8080/",
          "height": 369
        },
        "id": "173fa105",
        "outputId": "e67773cb-6ee1-476a-bf84-a9f78cd32bdb"
      },
      "outputs": [
        {
          "output_type": "stream",
          "name": "stdout",
          "text": [
            "(8000, 23)\n"
          ]
        },
        {
          "output_type": "execute_result",
          "data": {
            "text/plain": [
              "      Gender  Customer Type  Age  Type of Travel  Class  Flight Distance  \\\n",
              "7636       1              1   24               1      0              679   \n",
              "8132       0              1   68               1      2             2710   \n",
              "7048       0              0   23               1      0              692   \n",
              "6650       1              1   37               1      2              328   \n",
              "4763       0              1   44               1      2              613   \n",
              "\n",
              "      Inflight wifi service  Departure/Arrival time convenient  \\\n",
              "7636                      5                                  2   \n",
              "8132                      2                                  2   \n",
              "7048                      1                                  1   \n",
              "6650                      2                                  2   \n",
              "4763                      2                                  2   \n",
              "\n",
              "      Ease of Online booking  Gate location  ...  Inflight entertainment  \\\n",
              "7636                       2              2  ...                       5   \n",
              "8132                       2              2  ...                       5   \n",
              "7048                       1              3  ...                       4   \n",
              "6650                       2              2  ...                       2   \n",
              "4763                       2              2  ...                       5   \n",
              "\n",
              "      On-board service  Leg room service  Baggage handling  Checkin service  \\\n",
              "7636                 4                 5                 2                4   \n",
              "8132                 5                 5                 5                3   \n",
              "7048                 3                 4                 4                5   \n",
              "6650                 2                 2                 2                1   \n",
              "4763                 5                 5                 5                5   \n",
              "\n",
              "      Inflight service  Cleanliness  Departure Delay in Minutes  \\\n",
              "7636                 3            5                           0   \n",
              "8132                 5            2                           3   \n",
              "7048                 4            4                           1   \n",
              "6650                 2            4                          19   \n",
              "4763                 5            4                           0   \n",
              "\n",
              "      Arrival Delay in Minutes  satisfaction  \n",
              "7636                      12.0             1  \n",
              "8132                      15.0             1  \n",
              "7048                       2.0             0  \n",
              "6650                      22.0             0  \n",
              "4763                       0.0             1  \n",
              "\n",
              "[5 rows x 23 columns]"
            ],
            "text/html": [
              "\n",
              "  <div id=\"df-27ddf180-ac3d-41c0-96ac-33e99cc0886f\">\n",
              "    <div class=\"colab-df-container\">\n",
              "      <div>\n",
              "<style scoped>\n",
              "    .dataframe tbody tr th:only-of-type {\n",
              "        vertical-align: middle;\n",
              "    }\n",
              "\n",
              "    .dataframe tbody tr th {\n",
              "        vertical-align: top;\n",
              "    }\n",
              "\n",
              "    .dataframe thead th {\n",
              "        text-align: right;\n",
              "    }\n",
              "</style>\n",
              "<table border=\"1\" class=\"dataframe\">\n",
              "  <thead>\n",
              "    <tr style=\"text-align: right;\">\n",
              "      <th></th>\n",
              "      <th>Gender</th>\n",
              "      <th>Customer Type</th>\n",
              "      <th>Age</th>\n",
              "      <th>Type of Travel</th>\n",
              "      <th>Class</th>\n",
              "      <th>Flight Distance</th>\n",
              "      <th>Inflight wifi service</th>\n",
              "      <th>Departure/Arrival time convenient</th>\n",
              "      <th>Ease of Online booking</th>\n",
              "      <th>Gate location</th>\n",
              "      <th>...</th>\n",
              "      <th>Inflight entertainment</th>\n",
              "      <th>On-board service</th>\n",
              "      <th>Leg room service</th>\n",
              "      <th>Baggage handling</th>\n",
              "      <th>Checkin service</th>\n",
              "      <th>Inflight service</th>\n",
              "      <th>Cleanliness</th>\n",
              "      <th>Departure Delay in Minutes</th>\n",
              "      <th>Arrival Delay in Minutes</th>\n",
              "      <th>satisfaction</th>\n",
              "    </tr>\n",
              "  </thead>\n",
              "  <tbody>\n",
              "    <tr>\n",
              "      <th>7636</th>\n",
              "      <td>1</td>\n",
              "      <td>1</td>\n",
              "      <td>24</td>\n",
              "      <td>1</td>\n",
              "      <td>0</td>\n",
              "      <td>679</td>\n",
              "      <td>5</td>\n",
              "      <td>2</td>\n",
              "      <td>2</td>\n",
              "      <td>2</td>\n",
              "      <td>...</td>\n",
              "      <td>5</td>\n",
              "      <td>4</td>\n",
              "      <td>5</td>\n",
              "      <td>2</td>\n",
              "      <td>4</td>\n",
              "      <td>3</td>\n",
              "      <td>5</td>\n",
              "      <td>0</td>\n",
              "      <td>12.0</td>\n",
              "      <td>1</td>\n",
              "    </tr>\n",
              "    <tr>\n",
              "      <th>8132</th>\n",
              "      <td>0</td>\n",
              "      <td>1</td>\n",
              "      <td>68</td>\n",
              "      <td>1</td>\n",
              "      <td>2</td>\n",
              "      <td>2710</td>\n",
              "      <td>2</td>\n",
              "      <td>2</td>\n",
              "      <td>2</td>\n",
              "      <td>2</td>\n",
              "      <td>...</td>\n",
              "      <td>5</td>\n",
              "      <td>5</td>\n",
              "      <td>5</td>\n",
              "      <td>5</td>\n",
              "      <td>3</td>\n",
              "      <td>5</td>\n",
              "      <td>2</td>\n",
              "      <td>3</td>\n",
              "      <td>15.0</td>\n",
              "      <td>1</td>\n",
              "    </tr>\n",
              "    <tr>\n",
              "      <th>7048</th>\n",
              "      <td>0</td>\n",
              "      <td>0</td>\n",
              "      <td>23</td>\n",
              "      <td>1</td>\n",
              "      <td>0</td>\n",
              "      <td>692</td>\n",
              "      <td>1</td>\n",
              "      <td>1</td>\n",
              "      <td>1</td>\n",
              "      <td>3</td>\n",
              "      <td>...</td>\n",
              "      <td>4</td>\n",
              "      <td>3</td>\n",
              "      <td>4</td>\n",
              "      <td>4</td>\n",
              "      <td>5</td>\n",
              "      <td>4</td>\n",
              "      <td>4</td>\n",
              "      <td>1</td>\n",
              "      <td>2.0</td>\n",
              "      <td>0</td>\n",
              "    </tr>\n",
              "    <tr>\n",
              "      <th>6650</th>\n",
              "      <td>1</td>\n",
              "      <td>1</td>\n",
              "      <td>37</td>\n",
              "      <td>1</td>\n",
              "      <td>2</td>\n",
              "      <td>328</td>\n",
              "      <td>2</td>\n",
              "      <td>2</td>\n",
              "      <td>2</td>\n",
              "      <td>2</td>\n",
              "      <td>...</td>\n",
              "      <td>2</td>\n",
              "      <td>2</td>\n",
              "      <td>2</td>\n",
              "      <td>2</td>\n",
              "      <td>1</td>\n",
              "      <td>2</td>\n",
              "      <td>4</td>\n",
              "      <td>19</td>\n",
              "      <td>22.0</td>\n",
              "      <td>0</td>\n",
              "    </tr>\n",
              "    <tr>\n",
              "      <th>4763</th>\n",
              "      <td>0</td>\n",
              "      <td>1</td>\n",
              "      <td>44</td>\n",
              "      <td>1</td>\n",
              "      <td>2</td>\n",
              "      <td>613</td>\n",
              "      <td>2</td>\n",
              "      <td>2</td>\n",
              "      <td>2</td>\n",
              "      <td>2</td>\n",
              "      <td>...</td>\n",
              "      <td>5</td>\n",
              "      <td>5</td>\n",
              "      <td>5</td>\n",
              "      <td>5</td>\n",
              "      <td>5</td>\n",
              "      <td>5</td>\n",
              "      <td>4</td>\n",
              "      <td>0</td>\n",
              "      <td>0.0</td>\n",
              "      <td>1</td>\n",
              "    </tr>\n",
              "  </tbody>\n",
              "</table>\n",
              "<p>5 rows × 23 columns</p>\n",
              "</div>\n",
              "      <button class=\"colab-df-convert\" onclick=\"convertToInteractive('df-27ddf180-ac3d-41c0-96ac-33e99cc0886f')\"\n",
              "              title=\"Convert this dataframe to an interactive table.\"\n",
              "              style=\"display:none;\">\n",
              "        \n",
              "  <svg xmlns=\"http://www.w3.org/2000/svg\" height=\"24px\"viewBox=\"0 0 24 24\"\n",
              "       width=\"24px\">\n",
              "    <path d=\"M0 0h24v24H0V0z\" fill=\"none\"/>\n",
              "    <path d=\"M18.56 5.44l.94 2.06.94-2.06 2.06-.94-2.06-.94-.94-2.06-.94 2.06-2.06.94zm-11 1L8.5 8.5l.94-2.06 2.06-.94-2.06-.94L8.5 2.5l-.94 2.06-2.06.94zm10 10l.94 2.06.94-2.06 2.06-.94-2.06-.94-.94-2.06-.94 2.06-2.06.94z\"/><path d=\"M17.41 7.96l-1.37-1.37c-.4-.4-.92-.59-1.43-.59-.52 0-1.04.2-1.43.59L10.3 9.45l-7.72 7.72c-.78.78-.78 2.05 0 2.83L4 21.41c.39.39.9.59 1.41.59.51 0 1.02-.2 1.41-.59l7.78-7.78 2.81-2.81c.8-.78.8-2.07 0-2.86zM5.41 20L4 18.59l7.72-7.72 1.47 1.35L5.41 20z\"/>\n",
              "  </svg>\n",
              "      </button>\n",
              "      \n",
              "  <style>\n",
              "    .colab-df-container {\n",
              "      display:flex;\n",
              "      flex-wrap:wrap;\n",
              "      gap: 12px;\n",
              "    }\n",
              "\n",
              "    .colab-df-convert {\n",
              "      background-color: #E8F0FE;\n",
              "      border: none;\n",
              "      border-radius: 50%;\n",
              "      cursor: pointer;\n",
              "      display: none;\n",
              "      fill: #1967D2;\n",
              "      height: 32px;\n",
              "      padding: 0 0 0 0;\n",
              "      width: 32px;\n",
              "    }\n",
              "\n",
              "    .colab-df-convert:hover {\n",
              "      background-color: #E2EBFA;\n",
              "      box-shadow: 0px 1px 2px rgba(60, 64, 67, 0.3), 0px 1px 3px 1px rgba(60, 64, 67, 0.15);\n",
              "      fill: #174EA6;\n",
              "    }\n",
              "\n",
              "    [theme=dark] .colab-df-convert {\n",
              "      background-color: #3B4455;\n",
              "      fill: #D2E3FC;\n",
              "    }\n",
              "\n",
              "    [theme=dark] .colab-df-convert:hover {\n",
              "      background-color: #434B5C;\n",
              "      box-shadow: 0px 1px 3px 1px rgba(0, 0, 0, 0.15);\n",
              "      filter: drop-shadow(0px 1px 2px rgba(0, 0, 0, 0.3));\n",
              "      fill: #FFFFFF;\n",
              "    }\n",
              "  </style>\n",
              "\n",
              "      <script>\n",
              "        const buttonEl =\n",
              "          document.querySelector('#df-27ddf180-ac3d-41c0-96ac-33e99cc0886f button.colab-df-convert');\n",
              "        buttonEl.style.display =\n",
              "          google.colab.kernel.accessAllowed ? 'block' : 'none';\n",
              "\n",
              "        async function convertToInteractive(key) {\n",
              "          const element = document.querySelector('#df-27ddf180-ac3d-41c0-96ac-33e99cc0886f');\n",
              "          const dataTable =\n",
              "            await google.colab.kernel.invokeFunction('convertToInteractive',\n",
              "                                                     [key], {});\n",
              "          if (!dataTable) return;\n",
              "\n",
              "          const docLinkHtml = 'Like what you see? Visit the ' +\n",
              "            '<a target=\"_blank\" href=https://colab.research.google.com/notebooks/data_table.ipynb>data table notebook</a>'\n",
              "            + ' to learn more about interactive tables.';\n",
              "          element.innerHTML = '';\n",
              "          dataTable['output_type'] = 'display_data';\n",
              "          await google.colab.output.renderOutput(dataTable, element);\n",
              "          const docLink = document.createElement('div');\n",
              "          docLink.innerHTML = docLinkHtml;\n",
              "          element.appendChild(docLink);\n",
              "        }\n",
              "      </script>\n",
              "    </div>\n",
              "  </div>\n",
              "  "
            ]
          },
          "metadata": {},
          "execution_count": 15
        }
      ],
      "source": [
        "print(st_trainset.shape)\n",
        "st_trainset.head()"
      ]
    },
    {
      "cell_type": "code",
      "execution_count": 16,
      "id": "99ce45ef",
      "metadata": {
        "execution": {
          "iopub.execute_input": "2022-05-28T07:30:12.067725Z",
          "iopub.status.busy": "2022-05-28T07:30:12.067358Z",
          "iopub.status.idle": "2022-05-28T07:30:12.086363Z",
          "shell.execute_reply": "2022-05-28T07:30:12.085409Z"
        },
        "papermill": {
          "duration": 0.031942,
          "end_time": "2022-05-28T07:30:12.088219",
          "exception": false,
          "start_time": "2022-05-28T07:30:12.056277",
          "status": "completed"
        },
        "tags": [],
        "colab": {
          "base_uri": "https://localhost:8080/",
          "height": 369
        },
        "id": "99ce45ef",
        "outputId": "f9d70c87-38a8-40ac-93bf-5244bc78486d"
      },
      "outputs": [
        {
          "output_type": "stream",
          "name": "stdout",
          "text": [
            "(2000, 23)\n"
          ]
        },
        {
          "output_type": "execute_result",
          "data": {
            "text/plain": [
              "      Gender  Customer Type  Age  Type of Travel  Class  Flight Distance  \\\n",
              "1890       0              0   38               1      2              417   \n",
              "9959       0              1   60               1      2             2586   \n",
              "4663       0              1   66               1      0              331   \n",
              "5706       0              1   43               0      0             1444   \n",
              "9923       1              1   43               1      2             3892   \n",
              "\n",
              "      Inflight wifi service  Departure/Arrival time convenient  \\\n",
              "1890                      5                                  5   \n",
              "9959                      2                                  5   \n",
              "4663                      4                                  5   \n",
              "5706                      0                                  0   \n",
              "9923                      4                                  4   \n",
              "\n",
              "      Ease of Online booking  Gate location  ...  Inflight entertainment  \\\n",
              "1890                       5              5  ...                       2   \n",
              "9959                       5              5  ...                       3   \n",
              "4663                       5              5  ...                       3   \n",
              "5706                       0              2  ...                       3   \n",
              "9923                       4              4  ...                       5   \n",
              "\n",
              "      On-board service  Leg room service  Baggage handling  Checkin service  \\\n",
              "1890                 4                 5                 4                4   \n",
              "9959                 1                 4                 4                2   \n",
              "4663                 3                 4                 3                2   \n",
              "5706                 3                 0                 3                5   \n",
              "9923                 5                 5                 5                4   \n",
              "\n",
              "      Inflight service  Cleanliness  Departure Delay in Minutes  \\\n",
              "1890                 5            2                           0   \n",
              "9959                 1            2                           0   \n",
              "4663                 3            3                           0   \n",
              "5706                 3            4                          13   \n",
              "9923                 5            4                           0   \n",
              "\n",
              "      Arrival Delay in Minutes  satisfaction  \n",
              "1890                       0.0             1  \n",
              "9959                       0.0             0  \n",
              "4663                       0.0             1  \n",
              "5706                       2.0             1  \n",
              "9923                       1.0             1  \n",
              "\n",
              "[5 rows x 23 columns]"
            ],
            "text/html": [
              "\n",
              "  <div id=\"df-57521287-299d-4a6b-8311-5361cf10cea5\">\n",
              "    <div class=\"colab-df-container\">\n",
              "      <div>\n",
              "<style scoped>\n",
              "    .dataframe tbody tr th:only-of-type {\n",
              "        vertical-align: middle;\n",
              "    }\n",
              "\n",
              "    .dataframe tbody tr th {\n",
              "        vertical-align: top;\n",
              "    }\n",
              "\n",
              "    .dataframe thead th {\n",
              "        text-align: right;\n",
              "    }\n",
              "</style>\n",
              "<table border=\"1\" class=\"dataframe\">\n",
              "  <thead>\n",
              "    <tr style=\"text-align: right;\">\n",
              "      <th></th>\n",
              "      <th>Gender</th>\n",
              "      <th>Customer Type</th>\n",
              "      <th>Age</th>\n",
              "      <th>Type of Travel</th>\n",
              "      <th>Class</th>\n",
              "      <th>Flight Distance</th>\n",
              "      <th>Inflight wifi service</th>\n",
              "      <th>Departure/Arrival time convenient</th>\n",
              "      <th>Ease of Online booking</th>\n",
              "      <th>Gate location</th>\n",
              "      <th>...</th>\n",
              "      <th>Inflight entertainment</th>\n",
              "      <th>On-board service</th>\n",
              "      <th>Leg room service</th>\n",
              "      <th>Baggage handling</th>\n",
              "      <th>Checkin service</th>\n",
              "      <th>Inflight service</th>\n",
              "      <th>Cleanliness</th>\n",
              "      <th>Departure Delay in Minutes</th>\n",
              "      <th>Arrival Delay in Minutes</th>\n",
              "      <th>satisfaction</th>\n",
              "    </tr>\n",
              "  </thead>\n",
              "  <tbody>\n",
              "    <tr>\n",
              "      <th>1890</th>\n",
              "      <td>0</td>\n",
              "      <td>0</td>\n",
              "      <td>38</td>\n",
              "      <td>1</td>\n",
              "      <td>2</td>\n",
              "      <td>417</td>\n",
              "      <td>5</td>\n",
              "      <td>5</td>\n",
              "      <td>5</td>\n",
              "      <td>5</td>\n",
              "      <td>...</td>\n",
              "      <td>2</td>\n",
              "      <td>4</td>\n",
              "      <td>5</td>\n",
              "      <td>4</td>\n",
              "      <td>4</td>\n",
              "      <td>5</td>\n",
              "      <td>2</td>\n",
              "      <td>0</td>\n",
              "      <td>0.0</td>\n",
              "      <td>1</td>\n",
              "    </tr>\n",
              "    <tr>\n",
              "      <th>9959</th>\n",
              "      <td>0</td>\n",
              "      <td>1</td>\n",
              "      <td>60</td>\n",
              "      <td>1</td>\n",
              "      <td>2</td>\n",
              "      <td>2586</td>\n",
              "      <td>2</td>\n",
              "      <td>5</td>\n",
              "      <td>5</td>\n",
              "      <td>5</td>\n",
              "      <td>...</td>\n",
              "      <td>3</td>\n",
              "      <td>1</td>\n",
              "      <td>4</td>\n",
              "      <td>4</td>\n",
              "      <td>2</td>\n",
              "      <td>1</td>\n",
              "      <td>2</td>\n",
              "      <td>0</td>\n",
              "      <td>0.0</td>\n",
              "      <td>0</td>\n",
              "    </tr>\n",
              "    <tr>\n",
              "      <th>4663</th>\n",
              "      <td>0</td>\n",
              "      <td>1</td>\n",
              "      <td>66</td>\n",
              "      <td>1</td>\n",
              "      <td>0</td>\n",
              "      <td>331</td>\n",
              "      <td>4</td>\n",
              "      <td>5</td>\n",
              "      <td>5</td>\n",
              "      <td>5</td>\n",
              "      <td>...</td>\n",
              "      <td>3</td>\n",
              "      <td>3</td>\n",
              "      <td>4</td>\n",
              "      <td>3</td>\n",
              "      <td>2</td>\n",
              "      <td>3</td>\n",
              "      <td>3</td>\n",
              "      <td>0</td>\n",
              "      <td>0.0</td>\n",
              "      <td>1</td>\n",
              "    </tr>\n",
              "    <tr>\n",
              "      <th>5706</th>\n",
              "      <td>0</td>\n",
              "      <td>1</td>\n",
              "      <td>43</td>\n",
              "      <td>0</td>\n",
              "      <td>0</td>\n",
              "      <td>1444</td>\n",
              "      <td>0</td>\n",
              "      <td>0</td>\n",
              "      <td>0</td>\n",
              "      <td>2</td>\n",
              "      <td>...</td>\n",
              "      <td>3</td>\n",
              "      <td>3</td>\n",
              "      <td>0</td>\n",
              "      <td>3</td>\n",
              "      <td>5</td>\n",
              "      <td>3</td>\n",
              "      <td>4</td>\n",
              "      <td>13</td>\n",
              "      <td>2.0</td>\n",
              "      <td>1</td>\n",
              "    </tr>\n",
              "    <tr>\n",
              "      <th>9923</th>\n",
              "      <td>1</td>\n",
              "      <td>1</td>\n",
              "      <td>43</td>\n",
              "      <td>1</td>\n",
              "      <td>2</td>\n",
              "      <td>3892</td>\n",
              "      <td>4</td>\n",
              "      <td>4</td>\n",
              "      <td>4</td>\n",
              "      <td>4</td>\n",
              "      <td>...</td>\n",
              "      <td>5</td>\n",
              "      <td>5</td>\n",
              "      <td>5</td>\n",
              "      <td>5</td>\n",
              "      <td>4</td>\n",
              "      <td>5</td>\n",
              "      <td>4</td>\n",
              "      <td>0</td>\n",
              "      <td>1.0</td>\n",
              "      <td>1</td>\n",
              "    </tr>\n",
              "  </tbody>\n",
              "</table>\n",
              "<p>5 rows × 23 columns</p>\n",
              "</div>\n",
              "      <button class=\"colab-df-convert\" onclick=\"convertToInteractive('df-57521287-299d-4a6b-8311-5361cf10cea5')\"\n",
              "              title=\"Convert this dataframe to an interactive table.\"\n",
              "              style=\"display:none;\">\n",
              "        \n",
              "  <svg xmlns=\"http://www.w3.org/2000/svg\" height=\"24px\"viewBox=\"0 0 24 24\"\n",
              "       width=\"24px\">\n",
              "    <path d=\"M0 0h24v24H0V0z\" fill=\"none\"/>\n",
              "    <path d=\"M18.56 5.44l.94 2.06.94-2.06 2.06-.94-2.06-.94-.94-2.06-.94 2.06-2.06.94zm-11 1L8.5 8.5l.94-2.06 2.06-.94-2.06-.94L8.5 2.5l-.94 2.06-2.06.94zm10 10l.94 2.06.94-2.06 2.06-.94-2.06-.94-.94-2.06-.94 2.06-2.06.94z\"/><path d=\"M17.41 7.96l-1.37-1.37c-.4-.4-.92-.59-1.43-.59-.52 0-1.04.2-1.43.59L10.3 9.45l-7.72 7.72c-.78.78-.78 2.05 0 2.83L4 21.41c.39.39.9.59 1.41.59.51 0 1.02-.2 1.41-.59l7.78-7.78 2.81-2.81c.8-.78.8-2.07 0-2.86zM5.41 20L4 18.59l7.72-7.72 1.47 1.35L5.41 20z\"/>\n",
              "  </svg>\n",
              "      </button>\n",
              "      \n",
              "  <style>\n",
              "    .colab-df-container {\n",
              "      display:flex;\n",
              "      flex-wrap:wrap;\n",
              "      gap: 12px;\n",
              "    }\n",
              "\n",
              "    .colab-df-convert {\n",
              "      background-color: #E8F0FE;\n",
              "      border: none;\n",
              "      border-radius: 50%;\n",
              "      cursor: pointer;\n",
              "      display: none;\n",
              "      fill: #1967D2;\n",
              "      height: 32px;\n",
              "      padding: 0 0 0 0;\n",
              "      width: 32px;\n",
              "    }\n",
              "\n",
              "    .colab-df-convert:hover {\n",
              "      background-color: #E2EBFA;\n",
              "      box-shadow: 0px 1px 2px rgba(60, 64, 67, 0.3), 0px 1px 3px 1px rgba(60, 64, 67, 0.15);\n",
              "      fill: #174EA6;\n",
              "    }\n",
              "\n",
              "    [theme=dark] .colab-df-convert {\n",
              "      background-color: #3B4455;\n",
              "      fill: #D2E3FC;\n",
              "    }\n",
              "\n",
              "    [theme=dark] .colab-df-convert:hover {\n",
              "      background-color: #434B5C;\n",
              "      box-shadow: 0px 1px 3px 1px rgba(0, 0, 0, 0.15);\n",
              "      filter: drop-shadow(0px 1px 2px rgba(0, 0, 0, 0.3));\n",
              "      fill: #FFFFFF;\n",
              "    }\n",
              "  </style>\n",
              "\n",
              "      <script>\n",
              "        const buttonEl =\n",
              "          document.querySelector('#df-57521287-299d-4a6b-8311-5361cf10cea5 button.colab-df-convert');\n",
              "        buttonEl.style.display =\n",
              "          google.colab.kernel.accessAllowed ? 'block' : 'none';\n",
              "\n",
              "        async function convertToInteractive(key) {\n",
              "          const element = document.querySelector('#df-57521287-299d-4a6b-8311-5361cf10cea5');\n",
              "          const dataTable =\n",
              "            await google.colab.kernel.invokeFunction('convertToInteractive',\n",
              "                                                     [key], {});\n",
              "          if (!dataTable) return;\n",
              "\n",
              "          const docLinkHtml = 'Like what you see? Visit the ' +\n",
              "            '<a target=\"_blank\" href=https://colab.research.google.com/notebooks/data_table.ipynb>data table notebook</a>'\n",
              "            + ' to learn more about interactive tables.';\n",
              "          element.innerHTML = '';\n",
              "          dataTable['output_type'] = 'display_data';\n",
              "          await google.colab.output.renderOutput(dataTable, element);\n",
              "          const docLink = document.createElement('div');\n",
              "          docLink.innerHTML = docLinkHtml;\n",
              "          element.appendChild(docLink);\n",
              "        }\n",
              "      </script>\n",
              "    </div>\n",
              "  </div>\n",
              "  "
            ]
          },
          "metadata": {},
          "execution_count": 16
        }
      ],
      "source": [
        "print(st_testset.shape)\n",
        "st_testset.head()"
      ]
    },
    {
      "cell_type": "code",
      "execution_count": 17,
      "id": "505c9865",
      "metadata": {
        "execution": {
          "iopub.execute_input": "2022-05-28T07:30:12.110295Z",
          "iopub.status.busy": "2022-05-28T07:30:12.109921Z",
          "iopub.status.idle": "2022-05-28T07:30:12.117521Z",
          "shell.execute_reply": "2022-05-28T07:30:12.116686Z"
        },
        "papermill": {
          "duration": 0.020684,
          "end_time": "2022-05-28T07:30:12.119236",
          "exception": false,
          "start_time": "2022-05-28T07:30:12.098552",
          "status": "completed"
        },
        "tags": [],
        "id": "505c9865"
      },
      "outputs": [],
      "source": [
        "X_train = st_trainset.drop('satisfaction', axis=1)\n",
        "y_train = st_trainset['satisfaction'].copy()\n",
        "\n",
        "X_test = st_testset.drop('satisfaction', axis=1)\n",
        "y_test = st_testset['satisfaction'].copy()"
      ]
    },
    {
      "cell_type": "markdown",
      "id": "7959847e",
      "metadata": {
        "papermill": {
          "duration": 0.010155,
          "end_time": "2022-05-28T07:30:12.139328",
          "exception": false,
          "start_time": "2022-05-28T07:30:12.129173",
          "status": "completed"
        },
        "tags": [],
        "id": "7959847e"
      },
      "source": [
        "## **Pipeline**"
      ]
    },
    {
      "cell_type": "code",
      "execution_count": 18,
      "id": "0aae9d5d",
      "metadata": {
        "execution": {
          "iopub.execute_input": "2022-05-28T07:30:12.161246Z",
          "iopub.status.busy": "2022-05-28T07:30:12.160861Z",
          "iopub.status.idle": "2022-05-28T07:30:12.193418Z",
          "shell.execute_reply": "2022-05-28T07:30:12.192470Z"
        },
        "papermill": {
          "duration": 0.045864,
          "end_time": "2022-05-28T07:30:12.195412",
          "exception": false,
          "start_time": "2022-05-28T07:30:12.149548",
          "status": "completed"
        },
        "tags": [],
        "id": "0aae9d5d"
      },
      "outputs": [],
      "source": [
        "pipeline = Pipeline([\n",
        "            ('median_imputer', SimpleImputer(strategy='median')),\n",
        "            ('std_scaler', StandardScaler())\n",
        "])\n",
        "\n",
        "X_train_prepared = pipeline.fit_transform(X_train)\n",
        "X_test_prepared = pipeline.transform(X_test)"
      ]
    },
    {
      "cell_type": "markdown",
      "id": "8c82aec6",
      "metadata": {
        "papermill": {
          "duration": 0.00984,
          "end_time": "2022-05-28T07:30:12.215291",
          "exception": false,
          "start_time": "2022-05-28T07:30:12.205451",
          "status": "completed"
        },
        "tags": [],
        "id": "8c82aec6"
      },
      "source": [
        "## **k-NN**"
      ]
    },
    {
      "cell_type": "code",
      "execution_count": 19,
      "id": "519e78fb",
      "metadata": {
        "execution": {
          "iopub.execute_input": "2022-05-28T07:30:12.236923Z",
          "iopub.status.busy": "2022-05-28T07:30:12.236521Z",
          "iopub.status.idle": "2022-05-28T07:30:22.705652Z",
          "shell.execute_reply": "2022-05-28T07:30:22.704712Z"
        },
        "papermill": {
          "duration": 10.482615,
          "end_time": "2022-05-28T07:30:22.707849",
          "exception": false,
          "start_time": "2022-05-28T07:30:12.225234",
          "status": "completed"
        },
        "tags": [],
        "colab": {
          "base_uri": "https://localhost:8080/",
          "height": 377
        },
        "id": "519e78fb",
        "outputId": "5f5bdea2-23ec-48df-c3fe-dd0f3e12e50b"
      },
      "outputs": [
        {
          "output_type": "display_data",
          "data": {
            "text/plain": [
              "<Figure size 720x432 with 1 Axes>"
            ],
            "image/png": "[encoded data removed]"
          },
          "metadata": {}
        }
      ],
      "source": [
        "f1 = []\n",
        "for k in range(1,25):\n",
        "    knn = KNeighborsClassifier(n_neighbors=k) # k-ni qiymati\n",
        "    knn.fit(X_train_prepared, y_train)\n",
        "    y_predicted = knn.predict(X_test_prepared)\n",
        "    f1.append(f1_score(y_test, y_predicted))\n",
        "\n",
        "plt.figure(figsize=(10,6))\n",
        "plt.plot(range(1,25),f1)\n",
        "plt.xticks(range(1,25))\n",
        "plt.show()"
      ]
    },
    {
      "cell_type": "code",
      "execution_count": 20,
      "id": "8d001fcb",
      "metadata": {
        "execution": {
          "iopub.execute_input": "2022-05-28T07:30:22.730531Z",
          "iopub.status.busy": "2022-05-28T07:30:22.730041Z",
          "iopub.status.idle": "2022-05-28T07:30:23.599576Z",
          "shell.execute_reply": "2022-05-28T07:30:23.598940Z"
        },
        "papermill": {
          "duration": 0.882799,
          "end_time": "2022-05-28T07:30:23.601230",
          "exception": false,
          "start_time": "2022-05-28T07:30:22.718431",
          "status": "completed"
        },
        "tags": [],
        "colab": {
          "base_uri": "https://localhost:8080/",
          "height": 711
        },
        "id": "8d001fcb",
        "outputId": "c589a2a1-ca7d-46d2-a33e-32bdf443525f"
      },
      "outputs": [
        {
          "output_type": "stream",
          "name": "stdout",
          "text": [
            "              precision    recall  f1-score   support\n",
            "\n",
            "           0       0.88      0.95      0.91       963\n",
            "           1       0.95      0.87      0.91      1037\n",
            "\n",
            "    accuracy                           0.91      2000\n",
            "   macro avg       0.91      0.91      0.91      2000\n",
            "weighted avg       0.91      0.91      0.91      2000\n",
            "\n",
            "Model aniqligi: 0.9095\n"
          ]
        },
        {
          "output_type": "display_data",
          "data": {
            "text/plain": [
              "<Figure size 432x288 with 2 Axes>"
            ],
            "image/png": "[encoded data removed]"
          },
          "metadata": {}
        },
        {
          "output_type": "display_data",
          "data": {
            "text/plain": [
              "<Figure size 432x288 with 1 Axes>"
            ],
            "image/png": "[encoded data removed]"
          },
          "metadata": {}
        }
      ],
      "source": [
        "kNN_model = KNeighborsClassifier(n_neighbors=9)\n",
        "kNN_model.fit(X_train_prepared, y_train)\n",
        "\n",
        "knn_y_predicted = kNN_model.predict(X_test_prepared)\n",
        "\n",
        "print(classification_report(y_test, knn_y_predicted))\n",
        "print(\"Model aniqligi:\", accuracy_score(y_test, knn_y_predicted))\n",
        "\n",
        "# Confusion matrix\n",
        "conf_mat = confusion_matrix(y_test, knn_y_predicted)\n",
        "sns.heatmap(conf_mat, annot=True, fmt=\"g\");\n",
        "\n",
        "# ROC curve\n",
        "fpr, tpr, thresholds = roc_curve(y_test, knn_y_predicted)\n",
        "roc_auc = auc(fpr, tpr)\n",
        "disp = RocCurveDisplay(fpr=fpr, tpr=tpr, roc_auc=roc_auc, estimator_name='Roc curve')\n",
        "disp.plot();"
      ]
    },
    {
      "cell_type": "markdown",
      "id": "113f613a",
      "metadata": {
        "papermill": {
          "duration": 0.011035,
          "end_time": "2022-05-28T07:30:23.623387",
          "exception": false,
          "start_time": "2022-05-28T07:30:23.612352",
          "status": "completed"
        },
        "tags": [],
        "id": "113f613a"
      },
      "source": [
        "# **Logistic Regression**"
      ]
    },
    {
      "cell_type": "code",
      "execution_count": 21,
      "id": "18398401",
      "metadata": {
        "execution": {
          "iopub.execute_input": "2022-05-28T07:30:23.647739Z",
          "iopub.status.busy": "2022-05-28T07:30:23.646910Z",
          "iopub.status.idle": "2022-05-28T07:30:24.145719Z",
          "shell.execute_reply": "2022-05-28T07:30:24.144844Z"
        },
        "papermill": {
          "duration": 0.513444,
          "end_time": "2022-05-28T07:30:24.147828",
          "exception": false,
          "start_time": "2022-05-28T07:30:23.634384",
          "status": "completed"
        },
        "tags": [],
        "colab": {
          "base_uri": "https://localhost:8080/",
          "height": 710
        },
        "id": "18398401",
        "outputId": "0f5ac376-29a2-4cb5-976f-2cad0095e249"
      },
      "outputs": [
        {
          "output_type": "stream",
          "name": "stdout",
          "text": [
            "              precision    recall  f1-score   support\n",
            "\n",
            "           0       0.84      0.86      0.85       963\n",
            "           1       0.87      0.85      0.86      1037\n",
            "\n",
            "    accuracy                           0.86      2000\n",
            "   macro avg       0.86      0.86      0.86      2000\n",
            "weighted avg       0.86      0.86      0.86      2000\n",
            "\n",
            "Model aniqligi: 0.8575\n"
          ]
        },
        {
          "output_type": "display_data",
          "data": {
            "text/plain": [
              "<Figure size 432x288 with 2 Axes>"
            ],
            "image/png": "[encoded data removed]"
          },
          "metadata": {}
        },
        {
          "output_type": "display_data",
          "data": {
            "text/plain": [
              "<Figure size 432x288 with 1 Axes>"
            ],
            "image/png": "[encoded data removed]"
          },
          "metadata": {}
        }
      ],
      "source": [
        "LR_model = LogisticRegression()\n",
        "LR_model.fit(X_train_prepared, y_train)\n",
        "\n",
        "lr_y_predicted = LR_model.predict(X_test_prepared)\n",
        "\n",
        "print(classification_report(y_test, lr_y_predicted))\n",
        "print(\"Model aniqligi:\", accuracy_score(y_test, lr_y_predicted))\n",
        "\n",
        "# Confusion matrix\n",
        "conf_mat = confusion_matrix(y_test, lr_y_predicted)\n",
        "sns.heatmap(conf_mat, annot=True, fmt=\"g\");\n",
        "\n",
        "# ROC curve\n",
        "fpr, tpr, thresholds = roc_curve(y_test, lr_y_predicted)\n",
        "roc_auc = auc(fpr, tpr)\n",
        "disp = RocCurveDisplay(fpr=fpr, tpr=tpr, roc_auc=roc_auc, estimator_name='Roc curve')\n",
        "disp.plot();"
      ]
    },
    {
      "cell_type": "markdown",
      "id": "44e9222a",
      "metadata": {
        "papermill": {
          "duration": 0.011811,
          "end_time": "2022-05-28T07:30:24.171469",
          "exception": false,
          "start_time": "2022-05-28T07:30:24.159658",
          "status": "completed"
        },
        "tags": [],
        "id": "44e9222a"
      },
      "source": [
        "# **Support Vector Machine**"
      ]
    },
    {
      "cell_type": "code",
      "execution_count": 22,
      "id": "1d2ff839",
      "metadata": {
        "execution": {
          "iopub.execute_input": "2022-05-28T07:30:24.197953Z",
          "iopub.status.busy": "2022-05-28T07:30:24.197021Z",
          "iopub.status.idle": "2022-05-28T07:30:26.000727Z",
          "shell.execute_reply": "2022-05-28T07:30:25.999900Z"
        },
        "papermill": {
          "duration": 1.819143,
          "end_time": "2022-05-28T07:30:26.002702",
          "exception": false,
          "start_time": "2022-05-28T07:30:24.183559",
          "status": "completed"
        },
        "tags": [],
        "colab": {
          "base_uri": "https://localhost:8080/",
          "height": 710
        },
        "id": "1d2ff839",
        "outputId": "ad7c963b-1ff9-455e-ac94-3fed4a90f5c5"
      },
      "outputs": [
        {
          "output_type": "stream",
          "name": "stdout",
          "text": [
            "              precision    recall  f1-score   support\n",
            "\n",
            "           0       0.93      0.94      0.93       963\n",
            "           1       0.94      0.93      0.94      1037\n",
            "\n",
            "    accuracy                           0.94      2000\n",
            "   macro avg       0.93      0.94      0.93      2000\n",
            "weighted avg       0.94      0.94      0.94      2000\n",
            "\n",
            "Model aniqligi: 0.935\n"
          ]
        },
        {
          "output_type": "display_data",
          "data": {
            "text/plain": [
              "<Figure size 432x288 with 2 Axes>"
            ],
            "image/png": "[encoded data removed]"
          },
          "metadata": {}
        },
        {
          "output_type": "display_data",
          "data": {
            "text/plain": [
              "<Figure size 432x288 with 1 Axes>"
            ],
            "image/png": "[encoded data removed]"
          },
          "metadata": {}
        }
      ],
      "source": [
        "SVM_model = SVC()\n",
        "SVM_model.fit(X_train_prepared, y_train)\n",
        "\n",
        "svm_y_predicted = SVM_model.predict(X_test_prepared)\n",
        "\n",
        "print(classification_report(y_test, svm_y_predicted))\n",
        "print(\"Model aniqligi:\", accuracy_score(y_test, svm_y_predicted))\n",
        "\n",
        "# Confusion matrix\n",
        "conf_mat = confusion_matrix(y_test, svm_y_predicted)\n",
        "sns.heatmap(conf_mat, annot=True, fmt=\"g\");\n",
        "\n",
        "# ROC curve\n",
        "fpr, tpr, thresholds = roc_curve(y_test, svm_y_predicted)\n",
        "roc_auc = auc(fpr, tpr)\n",
        "disp = RocCurveDisplay(fpr=fpr, tpr=tpr, roc_auc=roc_auc, estimator_name='Roc curve')\n",
        "disp.plot();"
      ]
    },
    {
      "cell_type": "markdown",
      "id": "278cfe68",
      "metadata": {
        "papermill": {
          "duration": 0.012006,
          "end_time": "2022-05-28T07:30:26.027071",
          "exception": false,
          "start_time": "2022-05-28T07:30:26.015065",
          "status": "completed"
        },
        "tags": [],
        "id": "278cfe68"
      },
      "source": [
        "# **Desicion Tree**"
      ]
    },
    {
      "cell_type": "code",
      "execution_count": 23,
      "id": "8799e607",
      "metadata": {
        "execution": {
          "iopub.execute_input": "2022-05-28T07:30:26.054022Z",
          "iopub.status.busy": "2022-05-28T07:30:26.053011Z",
          "iopub.status.idle": "2022-05-28T07:30:26.461495Z",
          "shell.execute_reply": "2022-05-28T07:30:26.460580Z"
        },
        "papermill": {
          "duration": 0.424262,
          "end_time": "2022-05-28T07:30:26.463549",
          "exception": false,
          "start_time": "2022-05-28T07:30:26.039287",
          "status": "completed"
        },
        "tags": [],
        "colab": {
          "base_uri": "https://localhost:8080/",
          "height": 710
        },
        "id": "8799e607",
        "outputId": "bc3bf1b3-b16f-4800-a44b-b11d1315649b"
      },
      "outputs": [
        {
          "output_type": "stream",
          "name": "stdout",
          "text": [
            "              precision    recall  f1-score   support\n",
            "\n",
            "           0       0.93      0.93      0.93       963\n",
            "           1       0.93      0.94      0.94      1037\n",
            "\n",
            "    accuracy                           0.93      2000\n",
            "   macro avg       0.93      0.93      0.93      2000\n",
            "weighted avg       0.93      0.93      0.93      2000\n",
            "\n",
            "Model aniqligi: 0.9325\n"
          ]
        },
        {
          "output_type": "display_data",
          "data": {
            "text/plain": [
              "<Figure size 432x288 with 2 Axes>"
            ],
            "image/png": "[encoded data removed]"
          },
          "metadata": {}
        },
        {
          "output_type": "display_data",
          "data": {
            "text/plain": [
              "<Figure size 432x288 with 1 Axes>"
            ],
            "image/png": "[encoded data removed]"
          },
          "metadata": {}
        }
      ],
      "source": [
        "DTC_model = DecisionTreeClassifier()\n",
        "DTC_model.fit(X_train_prepared, y_train)\n",
        "\n",
        "dtc_y_predicted = DTC_model.predict(X_test_prepared)\n",
        "\n",
        "print(classification_report(y_test, dtc_y_predicted))\n",
        "print(\"Model aniqligi:\", accuracy_score(y_test, dtc_y_predicted))\n",
        "\n",
        "# Confusion matrix\n",
        "conf_mat = confusion_matrix(y_test, dtc_y_predicted)\n",
        "sns.heatmap(conf_mat, annot=True, fmt=\"g\");\n",
        "\n",
        "# ROC curve\n",
        "fpr, tpr, thresholds = roc_curve(y_test, dtc_y_predicted)\n",
        "roc_auc = auc(fpr, tpr)\n",
        "disp = RocCurveDisplay(fpr=fpr, tpr=tpr, roc_auc=roc_auc, estimator_name='Roc curve')\n",
        "disp.plot();"
      ]
    },
    {
      "cell_type": "markdown",
      "id": "70eb2b0b",
      "metadata": {
        "papermill": {
          "duration": 0.012985,
          "end_time": "2022-05-28T07:30:26.489846",
          "exception": false,
          "start_time": "2022-05-28T07:30:26.476861",
          "status": "completed"
        },
        "tags": [],
        "id": "70eb2b0b"
      },
      "source": [
        "# **Random Forest**"
      ]
    },
    {
      "cell_type": "code",
      "execution_count": 24,
      "id": "2ef01912",
      "metadata": {
        "execution": {
          "iopub.execute_input": "2022-05-28T07:30:26.517906Z",
          "iopub.status.busy": "2022-05-28T07:30:26.517538Z",
          "iopub.status.idle": "2022-05-28T07:30:27.681723Z",
          "shell.execute_reply": "2022-05-28T07:30:27.680844Z"
        },
        "papermill": {
          "duration": 1.180674,
          "end_time": "2022-05-28T07:30:27.683911",
          "exception": false,
          "start_time": "2022-05-28T07:30:26.503237",
          "status": "completed"
        },
        "tags": [],
        "colab": {
          "base_uri": "https://localhost:8080/",
          "height": 710
        },
        "id": "2ef01912",
        "outputId": "c92c2d2d-fb37-4ff5-a05c-4a3d4ce6d168"
      },
      "outputs": [
        {
          "output_type": "stream",
          "name": "stdout",
          "text": [
            "              precision    recall  f1-score   support\n",
            "\n",
            "           0       0.94      0.95      0.94       963\n",
            "           1       0.95      0.94      0.95      1037\n",
            "\n",
            "    accuracy                           0.95      2000\n",
            "   macro avg       0.95      0.95      0.95      2000\n",
            "weighted avg       0.95      0.95      0.95      2000\n",
            "\n",
            "Model aniqligi: 0.9455\n"
          ]
        },
        {
          "output_type": "display_data",
          "data": {
            "text/plain": [
              "<Figure size 432x288 with 2 Axes>"
            ],
            "image/png": "[encoded data removed]"
          },
          "metadata": {}
        },
        {
          "output_type": "display_data",
          "data": {
            "text/plain": [
              "<Figure size 432x288 with 1 Axes>"
            ],
            "image/png": "[encoded data removed]"
          },
          "metadata": {}
        }
      ],
      "source": [
        "RFC_model = RandomForestClassifier()\n",
        "RFC_model.fit(X_train_prepared, y_train)\n",
        "\n",
        "rfc_y_predicted = RFC_model.predict(X_test_prepared)\n",
        "\n",
        "print(classification_report(y_test, rfc_y_predicted))\n",
        "print(\"Model aniqligi:\", accuracy_score(y_test, rfc_y_predicted))\n",
        "\n",
        "# Confusion matrix\n",
        "conf_mat = confusion_matrix(y_test, rfc_y_predicted)\n",
        "sns.heatmap(conf_mat, annot=True, fmt=\"g\");\n",
        "\n",
        "# ROC curve\n",
        "fpr, tpr, thresholds = roc_curve(y_test, rfc_y_predicted)\n",
        "roc_auc = auc(fpr, tpr)\n",
        "disp = RocCurveDisplay(fpr=fpr, tpr=tpr, roc_auc=roc_auc, estimator_name='Roc curve')\n",
        "disp.plot();"
      ]
    },
    {
      "cell_type": "markdown",
      "id": "24c1cb29",
      "metadata": {
        "papermill": {
          "duration": 0.013407,
          "end_time": "2022-05-28T07:30:27.711272",
          "exception": false,
          "start_time": "2022-05-28T07:30:27.697865",
          "status": "completed"
        },
        "tags": [],
        "id": "24c1cb29"
      },
      "source": [
        "# **XGB**"
      ]
    },
    {
      "cell_type": "code",
      "execution_count": 25,
      "id": "5fb49ec8",
      "metadata": {
        "execution": {
          "iopub.execute_input": "2022-05-28T07:30:27.740094Z",
          "iopub.status.busy": "2022-05-28T07:30:27.739607Z",
          "iopub.status.idle": "2022-05-28T07:30:28.413781Z",
          "shell.execute_reply": "2022-05-28T07:30:28.413102Z"
        },
        "papermill": {
          "duration": 0.690386,
          "end_time": "2022-05-28T07:30:28.415741",
          "exception": false,
          "start_time": "2022-05-28T07:30:27.725355",
          "status": "completed"
        },
        "tags": [],
        "colab": {
          "base_uri": "https://localhost:8080/",
          "height": 710
        },
        "id": "5fb49ec8",
        "outputId": "b039bd65-c3ab-4f9e-c0de-5deba620deba"
      },
      "outputs": [
        {
          "output_type": "stream",
          "name": "stdout",
          "text": [
            "              precision    recall  f1-score   support\n",
            "\n",
            "           0       0.89      0.89      0.89       963\n",
            "           1       0.90      0.90      0.90      1037\n",
            "\n",
            "    accuracy                           0.89      2000\n",
            "   macro avg       0.89      0.89      0.89      2000\n",
            "weighted avg       0.89      0.89      0.89      2000\n",
            "\n",
            "Model aniqligi: 0.8925\n"
          ]
        },
        {
          "output_type": "display_data",
          "data": {
            "text/plain": [
              "<Figure size 432x288 with 2 Axes>"
            ],
            "image/png": "[encoded data removed]"
          },
          "metadata": {}
        },
        {
          "output_type": "display_data",
          "data": {
            "text/plain": [
              "<Figure size 432x288 with 1 Axes>"
            ],
            "image/png": "[encoded data removed]"
          },
          "metadata": {}
        }
      ],
      "source": [
        "XGB_model = XGBClassifier(n_estimators=9)\n",
        "XGB_model.fit(X_train_prepared, y_train)\n",
        "\n",
        "xgb_y_predicted = XGB_model.predict(X_test_prepared)\n",
        "\n",
        "print(classification_report(y_test, xgb_y_predicted))\n",
        "print(\"Model aniqligi:\", accuracy_score(y_test, xgb_y_predicted))\n",
        "\n",
        "# Confusion matrix\n",
        "conf_mat = confusion_matrix(y_test, xgb_y_predicted)\n",
        "sns.heatmap(conf_mat, annot=True, fmt=\"g\");\n",
        "\n",
        "# ROC curve\n",
        "fpr, tpr, thresholds = roc_curve(y_test, xgb_y_predicted)\n",
        "roc_auc = auc(fpr, tpr)\n",
        "disp = RocCurveDisplay(fpr=fpr, tpr=tpr, roc_auc=roc_auc, estimator_name='Roc curve')\n",
        "disp.plot();"
      ]
    },
    {
      "cell_type": "markdown",
      "id": "be440b54",
      "metadata": {
        "papermill": {
          "duration": 0.014027,
          "end_time": "2022-05-28T07:30:28.444116",
          "exception": false,
          "start_time": "2022-05-28T07:30:28.430089",
          "status": "completed"
        },
        "tags": [],
        "id": "be440b54"
      },
      "source": [
        "# **Submission**"
      ]
    },
    {
      "cell_type": "code",
      "execution_count": 26,
      "id": "c9321909",
      "metadata": {
        "execution": {
          "iopub.execute_input": "2022-05-28T07:30:28.475095Z",
          "iopub.status.busy": "2022-05-28T07:30:28.474658Z",
          "iopub.status.idle": "2022-05-28T07:30:28.493373Z",
          "shell.execute_reply": "2022-05-28T07:30:28.492457Z"
        },
        "papermill": {
          "duration": 0.036817,
          "end_time": "2022-05-28T07:30:28.495290",
          "exception": false,
          "start_time": "2022-05-28T07:30:28.458473",
          "status": "completed"
        },
        "tags": [],
        "colab": {
          "base_uri": "https://localhost:8080/",
          "height": 438
        },
        "id": "c9321909",
        "outputId": "0aea3ee6-abe3-42ab-ce82-663dd99df1e0"
      },
      "outputs": [
        {
          "output_type": "execute_result",
          "data": {
            "text/plain": [
              "   id  Gender   Customer Type  Age   Type of Travel     Class  \\\n",
              "0   1  Female  Loyal Customer   25  Personal Travel       Eco   \n",
              "1   2  Female  Loyal Customer   49  Business travel  Business   \n",
              "2   3    Male  Loyal Customer   51  Business travel  Business   \n",
              "3   4    Male  Loyal Customer   34  Business travel  Eco Plus   \n",
              "4   5    Male  Loyal Customer   34  Personal Travel       Eco   \n",
              "\n",
              "   Flight Distance  Inflight wifi service  Departure/Arrival time convenient  \\\n",
              "0             2704                      2                                  2   \n",
              "1             1623                      1                                  1   \n",
              "2              338                      4                                  4   \n",
              "3               95                      0                                  0   \n",
              "4              602                      4                                  4   \n",
              "\n",
              "   Ease of Online booking  ...  Seat comfort  Inflight entertainment  \\\n",
              "0                       2  ...             5                       2   \n",
              "1                       1  ...             4                       2   \n",
              "2                       4  ...             5                       5   \n",
              "3                       0  ...             1                       5   \n",
              "4                       4  ...             5                       5   \n",
              "\n",
              "   On-board service  Leg room service  Baggage handling  Checkin service  \\\n",
              "0                 4                 4                 3                5   \n",
              "1                 2                 2                 2                4   \n",
              "2                 5                 5                 5                4   \n",
              "3                 4                 4                 1                3   \n",
              "4                 4                 5                 4                5   \n",
              "\n",
              "   Inflight service  Cleanliness  Departure Delay in Minutes  \\\n",
              "0                 1            5                         152   \n",
              "1                 2            3                          60   \n",
              "2                 5            4                           0   \n",
              "3                 3            5                           0   \n",
              "4                 5            5                         130   \n",
              "\n",
              "   Arrival Delay in Minutes  \n",
              "0                     191.0  \n",
              "1                      52.0  \n",
              "2                       0.0  \n",
              "3                       0.0  \n",
              "4                     140.0  \n",
              "\n",
              "[5 rows x 23 columns]"
            ],
            "text/html": [
              "\n",
              "  <div id=\"df-ed177615-3d4c-4a18-8c8e-ccda73ba010e\">\n",
              "    <div class=\"colab-df-container\">\n",
              "      <div>\n",
              "<style scoped>\n",
              "    .dataframe tbody tr th:only-of-type {\n",
              "        vertical-align: middle;\n",
              "    }\n",
              "\n",
              "    .dataframe tbody tr th {\n",
              "        vertical-align: top;\n",
              "    }\n",
              "\n",
              "    .dataframe thead th {\n",
              "        text-align: right;\n",
              "    }\n",
              "</style>\n",
              "<table border=\"1\" class=\"dataframe\">\n",
              "  <thead>\n",
              "    <tr style=\"text-align: right;\">\n",
              "      <th></th>\n",
              "      <th>id</th>\n",
              "      <th>Gender</th>\n",
              "      <th>Customer Type</th>\n",
              "      <th>Age</th>\n",
              "      <th>Type of Travel</th>\n",
              "      <th>Class</th>\n",
              "      <th>Flight Distance</th>\n",
              "      <th>Inflight wifi service</th>\n",
              "      <th>Departure/Arrival time convenient</th>\n",
              "      <th>Ease of Online booking</th>\n",
              "      <th>...</th>\n",
              "      <th>Seat comfort</th>\n",
              "      <th>Inflight entertainment</th>\n",
              "      <th>On-board service</th>\n",
              "      <th>Leg room service</th>\n",
              "      <th>Baggage handling</th>\n",
              "      <th>Checkin service</th>\n",
              "      <th>Inflight service</th>\n",
              "      <th>Cleanliness</th>\n",
              "      <th>Departure Delay in Minutes</th>\n",
              "      <th>Arrival Delay in Minutes</th>\n",
              "    </tr>\n",
              "  </thead>\n",
              "  <tbody>\n",
              "    <tr>\n",
              "      <th>0</th>\n",
              "      <td>1</td>\n",
              "      <td>Female</td>\n",
              "      <td>Loyal Customer</td>\n",
              "      <td>25</td>\n",
              "      <td>Personal Travel</td>\n",
              "      <td>Eco</td>\n",
              "      <td>2704</td>\n",
              "      <td>2</td>\n",
              "      <td>2</td>\n",
              "      <td>2</td>\n",
              "      <td>...</td>\n",
              "      <td>5</td>\n",
              "      <td>2</td>\n",
              "      <td>4</td>\n",
              "      <td>4</td>\n",
              "      <td>3</td>\n",
              "      <td>5</td>\n",
              "      <td>1</td>\n",
              "      <td>5</td>\n",
              "      <td>152</td>\n",
              "      <td>191.0</td>\n",
              "    </tr>\n",
              "    <tr>\n",
              "      <th>1</th>\n",
              "      <td>2</td>\n",
              "      <td>Female</td>\n",
              "      <td>Loyal Customer</td>\n",
              "      <td>49</td>\n",
              "      <td>Business travel</td>\n",
              "      <td>Business</td>\n",
              "      <td>1623</td>\n",
              "      <td>1</td>\n",
              "      <td>1</td>\n",
              "      <td>1</td>\n",
              "      <td>...</td>\n",
              "      <td>4</td>\n",
              "      <td>2</td>\n",
              "      <td>2</td>\n",
              "      <td>2</td>\n",
              "      <td>2</td>\n",
              "      <td>4</td>\n",
              "      <td>2</td>\n",
              "      <td>3</td>\n",
              "      <td>60</td>\n",
              "      <td>52.0</td>\n",
              "    </tr>\n",
              "    <tr>\n",
              "      <th>2</th>\n",
              "      <td>3</td>\n",
              "      <td>Male</td>\n",
              "      <td>Loyal Customer</td>\n",
              "      <td>51</td>\n",
              "      <td>Business travel</td>\n",
              "      <td>Business</td>\n",
              "      <td>338</td>\n",
              "      <td>4</td>\n",
              "      <td>4</td>\n",
              "      <td>4</td>\n",
              "      <td>...</td>\n",
              "      <td>5</td>\n",
              "      <td>5</td>\n",
              "      <td>5</td>\n",
              "      <td>5</td>\n",
              "      <td>5</td>\n",
              "      <td>4</td>\n",
              "      <td>5</td>\n",
              "      <td>4</td>\n",
              "      <td>0</td>\n",
              "      <td>0.0</td>\n",
              "    </tr>\n",
              "    <tr>\n",
              "      <th>3</th>\n",
              "      <td>4</td>\n",
              "      <td>Male</td>\n",
              "      <td>Loyal Customer</td>\n",
              "      <td>34</td>\n",
              "      <td>Business travel</td>\n",
              "      <td>Eco Plus</td>\n",
              "      <td>95</td>\n",
              "      <td>0</td>\n",
              "      <td>0</td>\n",
              "      <td>0</td>\n",
              "      <td>...</td>\n",
              "      <td>1</td>\n",
              "      <td>5</td>\n",
              "      <td>4</td>\n",
              "      <td>4</td>\n",
              "      <td>1</td>\n",
              "      <td>3</td>\n",
              "      <td>3</td>\n",
              "      <td>5</td>\n",
              "      <td>0</td>\n",
              "      <td>0.0</td>\n",
              "    </tr>\n",
              "    <tr>\n",
              "      <th>4</th>\n",
              "      <td>5</td>\n",
              "      <td>Male</td>\n",
              "      <td>Loyal Customer</td>\n",
              "      <td>34</td>\n",
              "      <td>Personal Travel</td>\n",
              "      <td>Eco</td>\n",
              "      <td>602</td>\n",
              "      <td>4</td>\n",
              "      <td>4</td>\n",
              "      <td>4</td>\n",
              "      <td>...</td>\n",
              "      <td>5</td>\n",
              "      <td>5</td>\n",
              "      <td>4</td>\n",
              "      <td>5</td>\n",
              "      <td>4</td>\n",
              "      <td>5</td>\n",
              "      <td>5</td>\n",
              "      <td>5</td>\n",
              "      <td>130</td>\n",
              "      <td>140.0</td>\n",
              "    </tr>\n",
              "  </tbody>\n",
              "</table>\n",
              "<p>5 rows × 23 columns</p>\n",
              "</div>\n",
              "      <button class=\"colab-df-convert\" onclick=\"convertToInteractive('df-ed177615-3d4c-4a18-8c8e-ccda73ba010e')\"\n",
              "              title=\"Convert this dataframe to an interactive table.\"\n",
              "              style=\"display:none;\">\n",
              "        \n",
              "  <svg xmlns=\"http://www.w3.org/2000/svg\" height=\"24px\"viewBox=\"0 0 24 24\"\n",
              "       width=\"24px\">\n",
              "    <path d=\"M0 0h24v24H0V0z\" fill=\"none\"/>\n",
              "    <path d=\"M18.56 5.44l.94 2.06.94-2.06 2.06-.94-2.06-.94-.94-2.06-.94 2.06-2.06.94zm-11 1L8.5 8.5l.94-2.06 2.06-.94-2.06-.94L8.5 2.5l-.94 2.06-2.06.94zm10 10l.94 2.06.94-2.06 2.06-.94-2.06-.94-.94-2.06-.94 2.06-2.06.94z\"/><path d=\"M17.41 7.96l-1.37-1.37c-.4-.4-.92-.59-1.43-.59-.52 0-1.04.2-1.43.59L10.3 9.45l-7.72 7.72c-.78.78-.78 2.05 0 2.83L4 21.41c.39.39.9.59 1.41.59.51 0 1.02-.2 1.41-.59l7.78-7.78 2.81-2.81c.8-.78.8-2.07 0-2.86zM5.41 20L4 18.59l7.72-7.72 1.47 1.35L5.41 20z\"/>\n",
              "  </svg>\n",
              "      </button>\n",
              "      \n",
              "  <style>\n",
              "    .colab-df-container {\n",
              "      display:flex;\n",
              "      flex-wrap:wrap;\n",
              "      gap: 12px;\n",
              "    }\n",
              "\n",
              "    .colab-df-convert {\n",
              "      background-color: #E8F0FE;\n",
              "      border: none;\n",
              "      border-radius: 50%;\n",
              "      cursor: pointer;\n",
              "      display: none;\n",
              "      fill: #1967D2;\n",
              "      height: 32px;\n",
              "      padding: 0 0 0 0;\n",
              "      width: 32px;\n",
              "    }\n",
              "\n",
              "    .colab-df-convert:hover {\n",
              "      background-color: #E2EBFA;\n",
              "      box-shadow: 0px 1px 2px rgba(60, 64, 67, 0.3), 0px 1px 3px 1px rgba(60, 64, 67, 0.15);\n",
              "      fill: #174EA6;\n",
              "    }\n",
              "\n",
              "    [theme=dark] .colab-df-convert {\n",
              "      background-color: #3B4455;\n",
              "      fill: #D2E3FC;\n",
              "    }\n",
              "\n",
              "    [theme=dark] .colab-df-convert:hover {\n",
              "      background-color: #434B5C;\n",
              "      box-shadow: 0px 1px 3px 1px rgba(0, 0, 0, 0.15);\n",
              "      filter: drop-shadow(0px 1px 2px rgba(0, 0, 0, 0.3));\n",
              "      fill: #FFFFFF;\n",
              "    }\n",
              "  </style>\n",
              "\n",
              "      <script>\n",
              "        const buttonEl =\n",
              "          document.querySelector('#df-ed177615-3d4c-4a18-8c8e-ccda73ba010e button.colab-df-convert');\n",
              "        buttonEl.style.display =\n",
              "          google.colab.kernel.accessAllowed ? 'block' : 'none';\n",
              "\n",
              "        async function convertToInteractive(key) {\n",
              "          const element = document.querySelector('#df-ed177615-3d4c-4a18-8c8e-ccda73ba010e');\n",
              "          const dataTable =\n",
              "            await google.colab.kernel.invokeFunction('convertToInteractive',\n",
              "                                                     [key], {});\n",
              "          if (!dataTable) return;\n",
              "\n",
              "          const docLinkHtml = 'Like what you see? Visit the ' +\n",
              "            '<a target=\"_blank\" href=https://colab.research.google.com/notebooks/data_table.ipynb>data table notebook</a>'\n",
              "            + ' to learn more about interactive tables.';\n",
              "          element.innerHTML = '';\n",
              "          dataTable['output_type'] = 'display_data';\n",
              "          await google.colab.output.renderOutput(dataTable, element);\n",
              "          const docLink = document.createElement('div');\n",
              "          docLink.innerHTML = docLinkHtml;\n",
              "          element.appendChild(docLink);\n",
              "        }\n",
              "      </script>\n",
              "    </div>\n",
              "  </div>\n",
              "  "
            ]
          },
          "metadata": {},
          "execution_count": 26
        }
      ],
      "source": [
        "test_df.head()"
      ]
    },
    {
      "cell_type": "code",
      "execution_count": 27,
      "id": "38562727",
      "metadata": {
        "execution": {
          "iopub.execute_input": "2022-05-28T07:30:28.526062Z",
          "iopub.status.busy": "2022-05-28T07:30:28.525550Z",
          "iopub.status.idle": "2022-05-28T07:30:28.533735Z",
          "shell.execute_reply": "2022-05-28T07:30:28.532859Z"
        },
        "papermill": {
          "duration": 0.025739,
          "end_time": "2022-05-28T07:30:28.535605",
          "exception": false,
          "start_time": "2022-05-28T07:30:28.509866",
          "status": "completed"
        },
        "tags": [],
        "colab": {
          "base_uri": "https://localhost:8080/"
        },
        "id": "38562727",
        "outputId": "7828c489-41ba-4cfb-c900-073b1241df46"
      },
      "outputs": [
        {
          "output_type": "execute_result",
          "data": {
            "text/plain": [
              "id                                    0\n",
              "Gender                                0\n",
              "Customer Type                         0\n",
              "Age                                   0\n",
              "Type of Travel                        0\n",
              "Class                                 0\n",
              "Flight Distance                       0\n",
              "Inflight wifi service                 0\n",
              "Departure/Arrival time convenient     0\n",
              "Ease of Online booking                0\n",
              "Gate location                         0\n",
              "Food and drink                        0\n",
              "Online boarding                       0\n",
              "Seat comfort                          0\n",
              "Inflight entertainment                0\n",
              "On-board service                      0\n",
              "Leg room service                      0\n",
              "Baggage handling                      0\n",
              "Checkin service                       0\n",
              "Inflight service                      0\n",
              "Cleanliness                           0\n",
              "Departure Delay in Minutes            0\n",
              "Arrival Delay in Minutes             19\n",
              "dtype: int64"
            ]
          },
          "metadata": {},
          "execution_count": 27
        }
      ],
      "source": [
        "test_df.isnull().sum()"
      ]
    },
    {
      "cell_type": "code",
      "execution_count": 28,
      "id": "103b9757",
      "metadata": {
        "execution": {
          "iopub.execute_input": "2022-05-28T07:30:28.566904Z",
          "iopub.status.busy": "2022-05-28T07:30:28.566357Z",
          "iopub.status.idle": "2022-05-28T07:30:28.576606Z",
          "shell.execute_reply": "2022-05-28T07:30:28.575942Z"
        },
        "papermill": {
          "duration": 0.028108,
          "end_time": "2022-05-28T07:30:28.578424",
          "exception": false,
          "start_time": "2022-05-28T07:30:28.550316",
          "status": "completed"
        },
        "tags": [],
        "id": "103b9757"
      },
      "outputs": [],
      "source": [
        "test_df.drop('id', axis=1, inplace=True)\n",
        "\n",
        "test_df['Gender'] = test_df['Gender'].map(GENDER)\n",
        "test_df['Customer Type'] = test_df['Customer Type'].map(CUSTOMER_TYPE)\n",
        "test_df['Type of Travel'] = test_df['Type of Travel'].map(TYPE_OF_TRAVEL)\n",
        "test_df['Class'] = test_df['Class'].map(CLASS)"
      ]
    },
    {
      "cell_type": "code",
      "execution_count": 29,
      "id": "dfeaeebc",
      "metadata": {
        "execution": {
          "iopub.execute_input": "2022-05-28T07:30:28.608868Z",
          "iopub.status.busy": "2022-05-28T07:30:28.608493Z",
          "iopub.status.idle": "2022-05-28T07:30:28.692565Z",
          "shell.execute_reply": "2022-05-28T07:30:28.691836Z"
        },
        "papermill": {
          "duration": 0.101546,
          "end_time": "2022-05-28T07:30:28.694508",
          "exception": false,
          "start_time": "2022-05-28T07:30:28.592962",
          "status": "completed"
        },
        "tags": [],
        "colab": {
          "base_uri": "https://localhost:8080/"
        },
        "id": "dfeaeebc",
        "outputId": "711c3389-8f01-4dc4-8ed3-aead6e52da21"
      },
      "outputs": [
        {
          "output_type": "stream",
          "name": "stdout",
          "text": [
            "4000\n"
          ]
        }
      ],
      "source": [
        "forsub = pipeline.transform(test_df)\n",
        "\n",
        "rfc_sub_predicted = RFC_model.predict(forsub)\n",
        "\n",
        "print(len(rfc_sub_predicted))\n",
        "\n",
        "ss['satisfaction'] = rfc_sub_predicted\n",
        "\n",
        "ss.to_csv(\"submission.csv\", index=False)"
      ]
    },
    {
      "cell_type": "code",
      "execution_count": 29,
      "id": "23f68a02",
      "metadata": {
        "papermill": {
          "duration": 0.014567,
          "end_time": "2022-05-28T07:30:28.723920",
          "exception": false,
          "start_time": "2022-05-28T07:30:28.709353",
          "status": "completed"
        },
        "tags": [],
        "id": "23f68a02"
      },
      "outputs": [],
      "source": [
        ""
      ]
    }
  ],
  "metadata": {
    "kernelspec": {
      "display_name": "Python 3",
      "language": "python",
      "name": "python3"
    },
    "language_info": {
      "codemirror_mode": {
        "name": "ipython",
        "version": 3
      },
      "file_extension": ".py",
      "mimetype": "text/x-python",
      "name": "python",
      "nbconvert_exporter": "python",
      "pygments_lexer": "ipython3",
      "version": "3.7.12"
    },
    "papermill": {
      "default_parameters": {},
      "duration": 28.807279,
      "end_time": "2022-05-28T07:30:29.459146",
      "environment_variables": {},
      "exception": null,
      "input_path": "__notebook__.ipynb",
      "output_path": "__notebook__.ipynb",
      "parameters": {},
      "start_time": "2022-05-28T07:30:00.651867",
      "version": "2.3.4"
    },
    "colab": {
      "name": "2-aviakompaniya.ipynb",
      "provenance": [],
      "include_colab_link": true
    },
    "accelerator": "GPU",
    "gpuClass": "standard"
  },
  "nbformat": 4,
  "nbformat_minor": 5
}